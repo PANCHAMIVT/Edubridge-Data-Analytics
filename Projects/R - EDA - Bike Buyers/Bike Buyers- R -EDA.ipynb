{
 "cells": [
  {
   "cell_type": "markdown",
   "id": "c03413a2",
   "metadata": {},
   "source": [
    "## Bike Buyers- A Quick Insights"
   ]
  },
  {
   "cell_type": "markdown",
   "id": "7fe92b71",
   "metadata": {},
   "source": [
    "### Data of 1000 rows with details of bike buyers with a categorical output variable"
   ]
  },
  {
   "cell_type": "markdown",
   "id": "7a64695a",
   "metadata": {},
   "source": [
    "## Abstract"
   ]
  },
  {
   "cell_type": "markdown",
   "id": "ceac6dd9",
   "metadata": {},
   "source": [
    "This dataset has details of 1000 users from different backgrounds and whether or not they buy a bike. This data can be used for prediction models using Machine Learning Algorithms. There are some NA values injected in the dataset. Use this dataset for Data Cleaning, Exploration and Visualization."
   ]
  },
  {
   "cell_type": "markdown",
   "id": "58d6b9c5",
   "metadata": {},
   "source": [
    "## Columns :"
   ]
  },
  {
   "cell_type": "markdown",
   "id": "38e61827",
   "metadata": {},
   "source": [
    "* ID\n",
    "* Marital Status\n",
    "* Gender\n",
    "* Income\n",
    "* Children\n",
    "* Education\n",
    "* Occupation\n",
    "* Home Owner\n",
    "* Cars\n",
    "* Commute Distance\n",
    "* Region\n",
    "* Age\n",
    "* Purchased Bike"
   ]
  },
  {
   "cell_type": "markdown",
   "id": "b044d70e",
   "metadata": {},
   "source": [
    "## Structure:"
   ]
  },
  {
   "cell_type": "markdown",
   "id": "13507e87",
   "metadata": {},
   "source": [
    "* Part 1: Importing Libraries\n",
    "* Part 2: Reading the data\n",
    "* Part 3: Exploring the data\n",
    "* Part 4: Cleaning the data\n",
    "* part 5: Analysing and Visualization the data\n",
    "* part 6: Conclusion"
   ]
  },
  {
   "cell_type": "markdown",
   "id": "b71373fc",
   "metadata": {},
   "source": [
    "## Installing and importing required packages"
   ]
  },
  {
   "cell_type": "code",
   "execution_count": 1,
   "id": "0a552fc2",
   "metadata": {},
   "outputs": [
    {
     "name": "stdout",
     "output_type": "stream",
     "text": [
      "\n",
      "  There is a binary version available but the source version is later:\n",
      "       binary source needs_compilation\n",
      "plotly  4.9.3 4.10.0             FALSE\n",
      "\n"
     ]
    },
    {
     "name": "stderr",
     "output_type": "stream",
     "text": [
      "installing the source package 'plotly'\n",
      "\n",
      "Warning message in install.packages(\"plotly\"):\n",
      "\"installation of package 'plotly' had non-zero exit status\""
     ]
    }
   ],
   "source": [
    "install.packages(\"plotly\")"
   ]
  },
  {
   "cell_type": "code",
   "execution_count": 2,
   "id": "4e9c154b",
   "metadata": {},
   "outputs": [
    {
     "ename": "ERROR",
     "evalue": "Error in library(plotly): there is no package called 'plotly'\n",
     "output_type": "error",
     "traceback": [
      "Error in library(plotly): there is no package called 'plotly'\nTraceback:\n",
      "1. library(plotly)"
     ]
    }
   ],
   "source": [
    "library(plotly)"
   ]
  },
  {
   "cell_type": "code",
   "execution_count": 3,
   "id": "cf52741c",
   "metadata": {},
   "outputs": [
    {
     "name": "stdout",
     "output_type": "stream",
     "text": [
      "\n",
      "  There is a binary version available but the source version is later:\n",
      "        binary source needs_compilation\n",
      "ggplot2  3.3.3  3.3.6             FALSE\n",
      "\n"
     ]
    },
    {
     "name": "stderr",
     "output_type": "stream",
     "text": [
      "installing the source package 'ggplot2'\n",
      "\n"
     ]
    }
   ],
   "source": [
    "install.packages(\"ggplot2\")"
   ]
  },
  {
   "cell_type": "code",
   "execution_count": 4,
   "id": "a0dffcfd",
   "metadata": {},
   "outputs": [
    {
     "name": "stderr",
     "output_type": "stream",
     "text": [
      "Registered S3 methods overwritten by 'tibble':\n",
      "  method     from  \n",
      "  format.tbl pillar\n",
      "  print.tbl  pillar\n"
     ]
    }
   ],
   "source": [
    "library(ggplot2) #imports library ggplot2"
   ]
  },
  {
   "cell_type": "code",
   "execution_count": 5,
   "id": "b0e7cd02",
   "metadata": {},
   "outputs": [
    {
     "name": "stdout",
     "output_type": "stream",
     "text": [
      "package 'hrbrthemes' successfully unpacked and MD5 sums checked\n",
      "\n",
      "The downloaded binary packages are in\n",
      "\tC:\\Users\\Lenovo\\AppData\\Local\\Temp\\Rtmpicjzb9\\downloaded_packages\n"
     ]
    }
   ],
   "source": [
    "install.packages(\"hrbrthemes\")"
   ]
  },
  {
   "cell_type": "code",
   "execution_count": 6,
   "id": "5a1f0f27",
   "metadata": {},
   "outputs": [
    {
     "name": "stderr",
     "output_type": "stream",
     "text": [
      "Warning message:\n",
      "\"package 'hrbrthemes' was built under R version 3.6.3\"NOTE: Either Arial Narrow or Roboto Condensed fonts are required to use these themes.\n",
      "      Please use hrbrthemes::import_roboto_condensed() to install Roboto Condensed and\n",
      "      if Arial Narrow is not on your system, please see https://bit.ly/arialnarrow\n"
     ]
    }
   ],
   "source": [
    "library(hrbrthemes)"
   ]
  },
  {
   "cell_type": "code",
   "execution_count": 7,
   "id": "47650bc0",
   "metadata": {},
   "outputs": [
    {
     "name": "stderr",
     "output_type": "stream",
     "text": [
      "also installing the dependencies 'glue', 'rlang', 'tidyselect', 'vctrs', 'cli', 'broom', 'dplyr', 'dtplyr', 'googledrive', 'googlesheets4', 'jsonlite', 'purrr', 'tibble'\n",
      "\n"
     ]
    },
    {
     "name": "stdout",
     "output_type": "stream",
     "text": [
      "\n",
      "  There are binary versions available but the source versions are later:\n",
      "              binary source needs_compilation\n",
      "glue           1.4.2  1.6.2              TRUE\n",
      "rlang         0.4.11  1.0.3              TRUE\n",
      "tidyselect     1.1.1  1.1.2              TRUE\n",
      "vctrs          0.3.8  0.4.1              TRUE\n",
      "cli            2.5.0  3.3.0              TRUE\n",
      "broom          0.7.6  1.0.0             FALSE\n",
      "dplyr          1.0.6  1.0.9              TRUE\n",
      "dtplyr         1.1.0  1.2.1             FALSE\n",
      "googledrive    1.0.1  2.0.0             FALSE\n",
      "googlesheets4  0.3.0  1.0.0             FALSE\n",
      "jsonlite       1.7.2  1.8.0              TRUE\n",
      "tibble         3.1.1  3.1.7              TRUE\n",
      "\n",
      "  Binaries will be installed\n",
      "package 'glue' successfully unpacked and MD5 sums checked\n"
     ]
    },
    {
     "name": "stderr",
     "output_type": "stream",
     "text": [
      "Warning message:\n",
      "\"cannot remove prior installation of package 'glue'\"Warning message in file.copy(savedcopy, lib, recursive = TRUE):\n",
      "\"problem copying C:\\Users\\Lenovo\\.conda\\envs\\RPrograming\\Lib\\R\\library\\00LOCK\\glue\\libs\\x64\\glue.dll to C:\\Users\\Lenovo\\.conda\\envs\\RPrograming\\Lib\\R\\library\\glue\\libs\\x64\\glue.dll: Permission denied\"Warning message:\n",
      "\"restored 'glue'\""
     ]
    },
    {
     "name": "stdout",
     "output_type": "stream",
     "text": [
      "package 'rlang' successfully unpacked and MD5 sums checked\n"
     ]
    },
    {
     "name": "stderr",
     "output_type": "stream",
     "text": [
      "Warning message:\n",
      "\"cannot remove prior installation of package 'rlang'\"Warning message in file.copy(savedcopy, lib, recursive = TRUE):\n",
      "\"problem copying C:\\Users\\Lenovo\\.conda\\envs\\RPrograming\\Lib\\R\\library\\00LOCK\\rlang\\libs\\x64\\rlang.dll to C:\\Users\\Lenovo\\.conda\\envs\\RPrograming\\Lib\\R\\library\\rlang\\libs\\x64\\rlang.dll: Permission denied\"Warning message:\n",
      "\"restored 'rlang'\""
     ]
    },
    {
     "name": "stdout",
     "output_type": "stream",
     "text": [
      "package 'tidyselect' successfully unpacked and MD5 sums checked\n"
     ]
    },
    {
     "name": "stderr",
     "output_type": "stream",
     "text": [
      "Warning message:\n",
      "\"cannot remove prior installation of package 'tidyselect'\"Warning message in file.copy(savedcopy, lib, recursive = TRUE):\n",
      "\"problem copying C:\\Users\\Lenovo\\.conda\\envs\\RPrograming\\Lib\\R\\library\\00LOCK\\tidyselect\\libs\\x64\\tidyselect.dll to C:\\Users\\Lenovo\\.conda\\envs\\RPrograming\\Lib\\R\\library\\tidyselect\\libs\\x64\\tidyselect.dll: Permission denied\"Warning message:\n",
      "\"restored 'tidyselect'\""
     ]
    },
    {
     "name": "stdout",
     "output_type": "stream",
     "text": [
      "package 'vctrs' successfully unpacked and MD5 sums checked\n"
     ]
    },
    {
     "name": "stderr",
     "output_type": "stream",
     "text": [
      "Warning message:\n",
      "\"cannot remove prior installation of package 'vctrs'\"Warning message in file.copy(savedcopy, lib, recursive = TRUE):\n",
      "\"problem copying C:\\Users\\Lenovo\\.conda\\envs\\RPrograming\\Lib\\R\\library\\00LOCK\\vctrs\\libs\\x64\\vctrs.dll to C:\\Users\\Lenovo\\.conda\\envs\\RPrograming\\Lib\\R\\library\\vctrs\\libs\\x64\\vctrs.dll: Permission denied\"Warning message:\n",
      "\"restored 'vctrs'\""
     ]
    },
    {
     "name": "stdout",
     "output_type": "stream",
     "text": [
      "package 'cli' successfully unpacked and MD5 sums checked\n",
      "package 'dplyr' successfully unpacked and MD5 sums checked\n"
     ]
    },
    {
     "name": "stderr",
     "output_type": "stream",
     "text": [
      "Warning message:\n",
      "\"cannot remove prior installation of package 'dplyr'\"Warning message in file.copy(savedcopy, lib, recursive = TRUE):\n",
      "\"problem copying C:\\Users\\Lenovo\\.conda\\envs\\RPrograming\\Lib\\R\\library\\00LOCK\\dplyr\\libs\\x64\\dplyr.dll to C:\\Users\\Lenovo\\.conda\\envs\\RPrograming\\Lib\\R\\library\\dplyr\\libs\\x64\\dplyr.dll: Permission denied\"Warning message:\n",
      "\"restored 'dplyr'\""
     ]
    },
    {
     "name": "stdout",
     "output_type": "stream",
     "text": [
      "package 'jsonlite' successfully unpacked and MD5 sums checked\n"
     ]
    },
    {
     "name": "stderr",
     "output_type": "stream",
     "text": [
      "Warning message:\n",
      "\"cannot remove prior installation of package 'jsonlite'\"Warning message in file.copy(savedcopy, lib, recursive = TRUE):\n",
      "\"problem copying C:\\Users\\Lenovo\\.conda\\envs\\RPrograming\\Lib\\R\\library\\00LOCK\\jsonlite\\libs\\x64\\jsonlite.dll to C:\\Users\\Lenovo\\.conda\\envs\\RPrograming\\Lib\\R\\library\\jsonlite\\libs\\x64\\jsonlite.dll: Permission denied\"Warning message:\n",
      "\"restored 'jsonlite'\""
     ]
    },
    {
     "name": "stdout",
     "output_type": "stream",
     "text": [
      "package 'purrr' successfully unpacked and MD5 sums checked\n"
     ]
    },
    {
     "name": "stderr",
     "output_type": "stream",
     "text": [
      "Warning message:\n",
      "\"cannot remove prior installation of package 'purrr'\"Warning message in file.copy(savedcopy, lib, recursive = TRUE):\n",
      "\"problem copying C:\\Users\\Lenovo\\.conda\\envs\\RPrograming\\Lib\\R\\library\\00LOCK\\purrr\\libs\\x64\\purrr.dll to C:\\Users\\Lenovo\\.conda\\envs\\RPrograming\\Lib\\R\\library\\purrr\\libs\\x64\\purrr.dll: Permission denied\"Warning message:\n",
      "\"restored 'purrr'\""
     ]
    },
    {
     "name": "stdout",
     "output_type": "stream",
     "text": [
      "package 'tibble' successfully unpacked and MD5 sums checked\n"
     ]
    },
    {
     "name": "stderr",
     "output_type": "stream",
     "text": [
      "Warning message:\n",
      "\"cannot remove prior installation of package 'tibble'\"Warning message in file.copy(savedcopy, lib, recursive = TRUE):\n",
      "\"problem copying C:\\Users\\Lenovo\\.conda\\envs\\RPrograming\\Lib\\R\\library\\00LOCK\\tibble\\libs\\x64\\tibble.dll to C:\\Users\\Lenovo\\.conda\\envs\\RPrograming\\Lib\\R\\library\\tibble\\libs\\x64\\tibble.dll: Permission denied\"Warning message:\n",
      "\"restored 'tibble'\""
     ]
    },
    {
     "name": "stdout",
     "output_type": "stream",
     "text": [
      "package 'tidyverse' successfully unpacked and MD5 sums checked\n",
      "\n",
      "The downloaded binary packages are in\n",
      "\tC:\\Users\\Lenovo\\AppData\\Local\\Temp\\Rtmpicjzb9\\downloaded_packages\n"
     ]
    },
    {
     "name": "stderr",
     "output_type": "stream",
     "text": [
      "installing the source packages 'broom', 'dtplyr', 'googledrive', 'googlesheets4'\n",
      "\n",
      "Warning message in install.packages(\"tidyverse\"):\n",
      "\"installation of package 'broom' had non-zero exit status\"Warning message in install.packages(\"tidyverse\"):\n",
      "\"installation of package 'dtplyr' had non-zero exit status\"Warning message in install.packages(\"tidyverse\"):\n",
      "\"installation of package 'googledrive' had non-zero exit status\"Warning message in install.packages(\"tidyverse\"):\n",
      "\"installation of package 'googlesheets4' had non-zero exit status\""
     ]
    }
   ],
   "source": [
    "install.packages(\"tidyverse\")"
   ]
  },
  {
   "cell_type": "code",
   "execution_count": 8,
   "id": "f70cc54d",
   "metadata": {},
   "outputs": [
    {
     "name": "stderr",
     "output_type": "stream",
     "text": [
      "Warning message:\n",
      "\"package 'tidyr' was built under R version 3.6.3\""
     ]
    },
    {
     "ename": "ERROR",
     "evalue": "Error: package or namespace load failed for 'tidyr' in loadNamespace(j <- i[[1L]], c(lib.loc, .libPaths()), versionCheck = vI[[j]]):\n namespace 'dplyr' 0.8.0.1 is already loaded, but >= 0.8.2 is required\n",
     "output_type": "error",
     "traceback": [
      "Error: package or namespace load failed for 'tidyr' in loadNamespace(j <- i[[1L]], c(lib.loc, .libPaths()), versionCheck = vI[[j]]):\n namespace 'dplyr' 0.8.0.1 is already loaded, but >= 0.8.2 is required\nTraceback:\n",
      "1. library(tidyr)",
      "2. tryCatch({\n .     attr(package, \"LibPath\") <- which.lib.loc\n .     ns <- loadNamespace(package, lib.loc)\n .     env <- attachNamespace(ns, pos = pos, deps, exclude, include.only)\n . }, error = function(e) {\n .     P <- if (!is.null(cc <- conditionCall(e))) \n .         paste(\" in\", deparse(cc)[1L])\n .     else \"\"\n .     msg <- gettextf(\"package or namespace load failed for %s%s:\\n %s\", \n .         sQuote(package), P, conditionMessage(e))\n .     if (logical.return) \n .         message(paste(\"Error:\", msg), domain = NA)\n .     else stop(msg, call. = FALSE, domain = NA)\n . })",
      "3. tryCatchList(expr, classes, parentenv, handlers)",
      "4. tryCatchOne(expr, names, parentenv, handlers[[1L]])",
      "5. value[[3L]](cond)",
      "6. stop(msg, call. = FALSE, domain = NA)"
     ]
    }
   ],
   "source": [
    "library (tidyr)"
   ]
  },
  {
   "cell_type": "markdown",
   "id": "a522ae9d",
   "metadata": {},
   "source": [
    "## Reading the dataset"
   ]
  },
  {
   "cell_type": "code",
   "execution_count": null,
   "id": "b1a05577",
   "metadata": {},
   "outputs": [],
   "source": [
    "d=read.csv('bike_buyers_clean.csv')\n",
    "d"
   ]
  },
  {
   "cell_type": "markdown",
   "id": "110c2897",
   "metadata": {},
   "source": [
    "## Exploring the data"
   ]
  },
  {
   "cell_type": "markdown",
   "id": "b53c4db5",
   "metadata": {},
   "source": [
    "* Head and Tail\n",
    "* Structure\n",
    "* Dimension\n",
    "* Summary\n",
    "* column names"
   ]
  },
  {
   "cell_type": "code",
   "execution_count": null,
   "id": "84573056",
   "metadata": {},
   "outputs": [],
   "source": [
    "head(d)"
   ]
  },
  {
   "cell_type": "code",
   "execution_count": null,
   "id": "fd9db60e",
   "metadata": {},
   "outputs": [],
   "source": [
    "tail(d)"
   ]
  },
  {
   "cell_type": "code",
   "execution_count": null,
   "id": "68418aa7",
   "metadata": {},
   "outputs": [],
   "source": [
    "class(d)"
   ]
  },
  {
   "cell_type": "code",
   "execution_count": null,
   "id": "c42d76a9",
   "metadata": {},
   "outputs": [],
   "source": [
    "str(d)"
   ]
  },
  {
   "cell_type": "code",
   "execution_count": null,
   "id": "436542d9",
   "metadata": {},
   "outputs": [],
   "source": [
    "colnames(d)"
   ]
  },
  {
   "cell_type": "code",
   "execution_count": null,
   "id": "57255d04",
   "metadata": {},
   "outputs": [],
   "source": [
    "dim(d)"
   ]
  },
  {
   "cell_type": "code",
   "execution_count": null,
   "id": "20123ab8",
   "metadata": {},
   "outputs": [],
   "source": [
    "summary(d)"
   ]
  },
  {
   "cell_type": "code",
   "execution_count": null,
   "id": "8773b20c",
   "metadata": {},
   "outputs": [],
   "source": [
    "levels(d$Marital.Status)"
   ]
  },
  {
   "cell_type": "code",
   "execution_count": null,
   "id": "fd93a70c",
   "metadata": {},
   "outputs": [],
   "source": [
    "unique(d[c('Children')])"
   ]
  },
  {
   "cell_type": "markdown",
   "id": "12a7aef1",
   "metadata": {},
   "source": [
    "## Extracting Data"
   ]
  },
  {
   "cell_type": "code",
   "execution_count": null,
   "id": "91c77d14",
   "metadata": {},
   "outputs": [],
   "source": [
    "levels(d$Education)"
   ]
  },
  {
   "cell_type": "code",
   "execution_count": null,
   "id": "e4f5038b",
   "metadata": {},
   "outputs": [],
   "source": [
    "levels(d$Occupation)"
   ]
  },
  {
   "cell_type": "code",
   "execution_count": null,
   "id": "68cea152",
   "metadata": {},
   "outputs": [],
   "source": [
    "levels(d$Region)"
   ]
  },
  {
   "cell_type": "markdown",
   "id": "334d5edc",
   "metadata": {},
   "source": [
    "## Cleaning the data"
   ]
  },
  {
   "cell_type": "code",
   "execution_count": null,
   "id": "0f20d25f",
   "metadata": {},
   "outputs": [],
   "source": [
    "is.null(d)"
   ]
  },
  {
   "cell_type": "code",
   "execution_count": null,
   "id": "f9d12af0",
   "metadata": {},
   "outputs": [],
   "source": [
    "length(which(is.na(d)))"
   ]
  },
  {
   "cell_type": "code",
   "execution_count": null,
   "id": "93cb5ef9",
   "metadata": {},
   "outputs": [],
   "source": [
    "colSums(is.na(d))"
   ]
  },
  {
   "cell_type": "code",
   "execution_count": null,
   "id": "12da1837",
   "metadata": {},
   "outputs": [],
   "source": [
    "dupe=d[duplicated(d),]\n",
    "dupe"
   ]
  },
  {
   "cell_type": "code",
   "execution_count": null,
   "id": "4c1c6428",
   "metadata": {},
   "outputs": [],
   "source": [
    "length(dupe)"
   ]
  },
  {
   "cell_type": "code",
   "execution_count": null,
   "id": "91eb5f91",
   "metadata": {},
   "outputs": [],
   "source": [
    "colSums(dupe)"
   ]
  },
  {
   "cell_type": "markdown",
   "id": "299b5cb8",
   "metadata": {},
   "source": [
    "## Visualization of data"
   ]
  },
  {
   "cell_type": "markdown",
   "id": "6910f7f7",
   "metadata": {},
   "source": [
    "### Filtering the data according to Females and males to know about their income"
   ]
  },
  {
   "cell_type": "code",
   "execution_count": null,
   "id": "e602aa83",
   "metadata": {},
   "outputs": [],
   "source": [
    "filter_bike_F<-d[d$Gender=='Female',]\n",
    "filter_bike_F"
   ]
  },
  {
   "cell_type": "code",
   "execution_count": null,
   "id": "0cc28d83",
   "metadata": {},
   "outputs": [],
   "source": [
    "hist(filter_bike_F$Age)"
   ]
  },
  {
   "cell_type": "code",
   "execution_count": null,
   "id": "0d5fd02a",
   "metadata": {},
   "outputs": [],
   "source": [
    "#Histogram\n",
    "ggplot(data = d, aes(x = Income,fill = Purchased.Bike)) + \n",
    "  geom_histogram(bins = 40,color = \"black\") +\n",
    "  geom_vline(xintercept = mean(d$Income), linetype=\"dotted\") +\n",
    "   scale_fill_brewer(palette=\"Dark2\")"
   ]
  },
  {
   "cell_type": "code",
   "execution_count": null,
   "id": "4eee9db9",
   "metadata": {},
   "outputs": [],
   "source": [
    "#Boxplot\n",
    "ggplot(data = d, aes(x = Purchased.Bike, y = Income, color = Purchased.Bike)) +\n",
    "  geom_boxplot() + scale_color_brewer(palette=\"Dark2\") +\n",
    "  theme(legend.position = \"none\")"
   ]
  },
  {
   "cell_type": "code",
   "execution_count": null,
   "id": "fbda071a",
   "metadata": {},
   "outputs": [],
   "source": [
    "#Dataset Preparation\n",
    "p1 <- as.data.frame(prop.table(table(d$Income,d$Purchased.Bike),margin =1))\n",
    "names(p1)<- c(\"Income\",\"Bought.Bike\",\"Frequency\")\n",
    "p1 <- p1 %>% filter(Bought.Bike == \"Yes\")"
   ]
  },
  {
   "cell_type": "code",
   "execution_count": null,
   "id": "da2f5402",
   "metadata": {},
   "outputs": [],
   "source": [
    "#Plotting frequency bar plot\n",
    "ggplot(data = p1 , aes(x = Income, y = Frequency, group = 1)) +\n",
    "  geom_point(color = \"black\") + geom_line() +\n",
    "  geom_hline(yintercept = 0.5, linetype = \"dotted\") +\n",
    "  scale_x_discrete(breaks = seq(10000 , 170000 , by = 40000)) +\n",
    "  labs(title = \"Precentage of bike buyers in each income category\")"
   ]
  },
  {
   "cell_type": "code",
   "execution_count": null,
   "id": "0b54661d",
   "metadata": {},
   "outputs": [],
   "source": [
    "ggplot(data = d, aes(x = Children ,fill = Purchased.Bike)) +\n",
    "  geom_bar(color = \"black\",position = \"dodge\") +\n",
    "  scale_fill_brewer(palette=\"Dark2\") +\n",
    "  theme(axis.text.x = element_blank(), axis.ticks.x = element_blank()) +\n",
    "  geom_text(stat = \"count\", aes(label = ..count..),position = position_dodge(width = 1), vjust = 1.25)"
   ]
  },
  {
   "cell_type": "code",
   "execution_count": null,
   "id": "a3bff0ea",
   "metadata": {},
   "outputs": [],
   "source": [
    "ggplot(d,aes(x=Income,y=Occupation,fill=Occupation))+ggtitle(\"Income by Occupation\")+geom_col()+coord_flip()"
   ]
  },
  {
   "cell_type": "markdown",
   "id": "9b643ba8",
   "metadata": {},
   "source": [
    "##### This indicates Professionals gets the highest income"
   ]
  },
  {
   "cell_type": "code",
   "execution_count": null,
   "id": "5be88e37",
   "metadata": {},
   "outputs": [],
   "source": [
    "by(d$Income, d$Education, summary)\n",
    "by(d$Income, d$Education, mean)\n",
    "by(d$Income, d$Education, median)"
   ]
  },
  {
   "cell_type": "code",
   "execution_count": null,
   "id": "24dceb3c",
   "metadata": {},
   "outputs": [],
   "source": [
    "density_income_edu <- ggplot(d, aes(x=Income, group=Education, fill=Education, alpha=.5))+\n",
    "  geom_density(adjust=1)+         #plots the density graph\n",
    "  labs(title=\"Income V/s Education\")+theme_ipsum()\n",
    "density_income_edu"
   ]
  },
  {
   "cell_type": "markdown",
   "id": "ee273424",
   "metadata": {},
   "source": [
    "#### people who are well educated earns more,Graduates and Bachelors earns the most."
   ]
  },
  {
   "cell_type": "code",
   "execution_count": null,
   "id": "0a053598",
   "metadata": {},
   "outputs": [],
   "source": [
    "xtabs(~Education+Purchased.Bike, d)\n",
    "plot(xtabs(~Education+Purchased.Bike, d), col=c(\"indianred1\",\"lightgreen\"), main=\"Education V/s purchased Bike\")"
   ]
  },
  {
   "cell_type": "markdown",
   "id": "9d6ba428",
   "metadata": {},
   "source": [
    "#### Those with higher education purchase bikes the most."
   ]
  },
  {
   "cell_type": "markdown",
   "id": "a008a665",
   "metadata": {},
   "source": [
    "## Conclusion"
   ]
  },
  {
   "cell_type": "markdown",
   "id": "434a65fb",
   "metadata": {},
   "source": [
    "According to the analysis, the odds that a customer will buy a bike will Increase if:\n",
    "\n",
    "* People who are single are more likely to purchase a bike.\n",
    "* People who has Less children.\n",
    "* People who have a Professional occuptaion.\n",
    "* People who has Less cars.\n",
    "* People who has a Low commute distance.\n",
    "* People who is living in the Pacific Region."
   ]
  },
  {
   "cell_type": "code",
   "execution_count": null,
   "id": "58acc475",
   "metadata": {},
   "outputs": [],
   "source": []
  }
 ],
 "metadata": {
  "kernelspec": {
   "display_name": "R",
   "language": "R",
   "name": "ir"
  },
  "language_info": {
   "codemirror_mode": "r",
   "file_extension": ".r",
   "mimetype": "text/x-r-source",
   "name": "R",
   "pygments_lexer": "r",
   "version": "3.6.1"
  }
 },
 "nbformat": 4,
 "nbformat_minor": 5
}
