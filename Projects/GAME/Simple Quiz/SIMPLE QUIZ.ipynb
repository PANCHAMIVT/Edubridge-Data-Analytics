{
 "cells": [
  {
   "cell_type": "markdown",
   "id": "b44e2590",
   "metadata": {},
   "source": [
    "## SIMPLE GAME MAKING IN PYTHON"
   ]
  },
  {
   "cell_type": "code",
   "execution_count": 1,
   "id": "f76c43c0",
   "metadata": {},
   "outputs": [
    {
     "name": "stdout",
     "output_type": "stream",
     "text": [
      "Welcome to Quiz\n",
      "Are you ready to play ? (yes/no) :yes\n",
      "Question 1: What is your Favourite programming language?python\n",
      "correct\n",
      "Question 2: Does we use python for data analysis? yes\n",
      "correct\n",
      "Question 3: PYTHON Is case-sensitive language?yes\n",
      "correct\n",
      "Thankyou for Playing this small quiz game, you attempted 3 questions correctly!\n",
      "Marks obtained: 100.0\n",
      "BYE!\n"
     ]
    }
   ],
   "source": [
    "print('Welcome to Quiz')\n",
    "answer=input('Are you ready to play ? (yes/no) :')\n",
    "score=0\n",
    "total_questions=3\n",
    " \n",
    "if answer.lower()=='yes':\n",
    "    answer=input('Question 1: What is your Favourite programming language?')\n",
    "    if answer.lower()=='python':\n",
    "        score += 1\n",
    "        print('correct')\n",
    "    else:\n",
    "        print('Wrong Answer :(')\n",
    " \n",
    " \n",
    "    answer=input('Question 2: Does we use python for data analysis? ')\n",
    "    if answer.lower()=='yes':\n",
    "        score += 1\n",
    "        print('correct')\n",
    "    else:\n",
    "        print('Wrong Answer :(')\n",
    " \n",
    "    answer=input('Question 3: PYTHON Is case-sensitive language?')\n",
    "    if answer.lower()=='yes':\n",
    "        score += 1\n",
    "        print('correct')\n",
    "    else:\n",
    "        print('Wrong Answer :(')\n",
    " \n",
    "print('Thankyou for Playing this small quiz game, you attempted',score,\"questions correctly!\")\n",
    "mark=(score/total_questions)*100\n",
    "print('Marks obtained:',mark)\n",
    "print('BYE!')"
   ]
  },
  {
   "cell_type": "code",
   "execution_count": null,
   "id": "4b48d862",
   "metadata": {},
   "outputs": [],
   "source": []
  }
 ],
 "metadata": {
  "kernelspec": {
   "display_name": "Python 3 (ipykernel)",
   "language": "python",
   "name": "python3"
  },
  "language_info": {
   "codemirror_mode": {
    "name": "ipython",
    "version": 3
   },
   "file_extension": ".py",
   "mimetype": "text/x-python",
   "name": "python",
   "nbconvert_exporter": "python",
   "pygments_lexer": "ipython3",
   "version": "3.9.7"
  }
 },
 "nbformat": 4,
 "nbformat_minor": 5
}
