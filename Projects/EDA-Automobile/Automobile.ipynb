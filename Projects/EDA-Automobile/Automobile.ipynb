{
 "cells": [
  {
   "cell_type": "code",
   "execution_count": 1,
   "id": "6b6dd9db",
   "metadata": {},
   "outputs": [],
   "source": [
    "import numpy as np\n",
    "import pandas as pd\n",
    "import matplotlib.pyplot as plt\n",
    "import seaborn as sns\n",
    "import warnings\n",
    "warnings.filterwarnings('ignore')"
   ]
  },
  {
   "cell_type": "markdown",
   "id": "36a5b0a9",
   "metadata": {},
   "source": [
    "## Reading the Data"
   ]
  },
  {
   "cell_type": "code",
   "execution_count": 11,
   "id": "afe79287",
   "metadata": {},
   "outputs": [
    {
     "data": {
      "text/html": [
       "<div>\n",
       "<style scoped>\n",
       "    .dataframe tbody tr th:only-of-type {\n",
       "        vertical-align: middle;\n",
       "    }\n",
       "\n",
       "    .dataframe tbody tr th {\n",
       "        vertical-align: top;\n",
       "    }\n",
       "\n",
       "    .dataframe thead th {\n",
       "        text-align: right;\n",
       "    }\n",
       "</style>\n",
       "<table border=\"1\" class=\"dataframe\">\n",
       "  <thead>\n",
       "    <tr style=\"text-align: right;\">\n",
       "      <th></th>\n",
       "      <th>index</th>\n",
       "      <th>company</th>\n",
       "      <th>body-style</th>\n",
       "      <th>wheel-base</th>\n",
       "      <th>length</th>\n",
       "      <th>engine-type</th>\n",
       "      <th>num-of-cylinders</th>\n",
       "      <th>horsepower</th>\n",
       "      <th>average-mileage</th>\n",
       "      <th>price</th>\n",
       "    </tr>\n",
       "  </thead>\n",
       "  <tbody>\n",
       "    <tr>\n",
       "      <th>0</th>\n",
       "      <td>0</td>\n",
       "      <td>alfa-romero</td>\n",
       "      <td>convertible</td>\n",
       "      <td>88.6</td>\n",
       "      <td>168.8</td>\n",
       "      <td>dohc</td>\n",
       "      <td>four</td>\n",
       "      <td>111</td>\n",
       "      <td>21</td>\n",
       "      <td>13495.0</td>\n",
       "    </tr>\n",
       "    <tr>\n",
       "      <th>1</th>\n",
       "      <td>1</td>\n",
       "      <td>alfa-romero</td>\n",
       "      <td>convertible</td>\n",
       "      <td>88.6</td>\n",
       "      <td>168.8</td>\n",
       "      <td>dohc</td>\n",
       "      <td>four</td>\n",
       "      <td>111</td>\n",
       "      <td>21</td>\n",
       "      <td>16500.0</td>\n",
       "    </tr>\n",
       "    <tr>\n",
       "      <th>2</th>\n",
       "      <td>2</td>\n",
       "      <td>alfa-romero</td>\n",
       "      <td>hatchback</td>\n",
       "      <td>94.5</td>\n",
       "      <td>171.2</td>\n",
       "      <td>ohcv</td>\n",
       "      <td>six</td>\n",
       "      <td>154</td>\n",
       "      <td>19</td>\n",
       "      <td>16500.0</td>\n",
       "    </tr>\n",
       "    <tr>\n",
       "      <th>3</th>\n",
       "      <td>3</td>\n",
       "      <td>audi</td>\n",
       "      <td>sedan</td>\n",
       "      <td>99.8</td>\n",
       "      <td>176.6</td>\n",
       "      <td>ohc</td>\n",
       "      <td>four</td>\n",
       "      <td>102</td>\n",
       "      <td>24</td>\n",
       "      <td>13950.0</td>\n",
       "    </tr>\n",
       "    <tr>\n",
       "      <th>4</th>\n",
       "      <td>4</td>\n",
       "      <td>audi</td>\n",
       "      <td>sedan</td>\n",
       "      <td>99.4</td>\n",
       "      <td>176.6</td>\n",
       "      <td>ohc</td>\n",
       "      <td>five</td>\n",
       "      <td>115</td>\n",
       "      <td>18</td>\n",
       "      <td>17450.0</td>\n",
       "    </tr>\n",
       "    <tr>\n",
       "      <th>...</th>\n",
       "      <td>...</td>\n",
       "      <td>...</td>\n",
       "      <td>...</td>\n",
       "      <td>...</td>\n",
       "      <td>...</td>\n",
       "      <td>...</td>\n",
       "      <td>...</td>\n",
       "      <td>...</td>\n",
       "      <td>...</td>\n",
       "      <td>...</td>\n",
       "    </tr>\n",
       "    <tr>\n",
       "      <th>56</th>\n",
       "      <td>81</td>\n",
       "      <td>volkswagen</td>\n",
       "      <td>sedan</td>\n",
       "      <td>97.3</td>\n",
       "      <td>171.7</td>\n",
       "      <td>ohc</td>\n",
       "      <td>four</td>\n",
       "      <td>85</td>\n",
       "      <td>27</td>\n",
       "      <td>7975.0</td>\n",
       "    </tr>\n",
       "    <tr>\n",
       "      <th>57</th>\n",
       "      <td>82</td>\n",
       "      <td>volkswagen</td>\n",
       "      <td>sedan</td>\n",
       "      <td>97.3</td>\n",
       "      <td>171.7</td>\n",
       "      <td>ohc</td>\n",
       "      <td>four</td>\n",
       "      <td>52</td>\n",
       "      <td>37</td>\n",
       "      <td>7995.0</td>\n",
       "    </tr>\n",
       "    <tr>\n",
       "      <th>58</th>\n",
       "      <td>86</td>\n",
       "      <td>volkswagen</td>\n",
       "      <td>sedan</td>\n",
       "      <td>97.3</td>\n",
       "      <td>171.7</td>\n",
       "      <td>ohc</td>\n",
       "      <td>four</td>\n",
       "      <td>100</td>\n",
       "      <td>26</td>\n",
       "      <td>9995.0</td>\n",
       "    </tr>\n",
       "    <tr>\n",
       "      <th>59</th>\n",
       "      <td>87</td>\n",
       "      <td>volvo</td>\n",
       "      <td>sedan</td>\n",
       "      <td>104.3</td>\n",
       "      <td>188.8</td>\n",
       "      <td>ohc</td>\n",
       "      <td>four</td>\n",
       "      <td>114</td>\n",
       "      <td>23</td>\n",
       "      <td>12940.0</td>\n",
       "    </tr>\n",
       "    <tr>\n",
       "      <th>60</th>\n",
       "      <td>88</td>\n",
       "      <td>volvo</td>\n",
       "      <td>wagon</td>\n",
       "      <td>104.3</td>\n",
       "      <td>188.8</td>\n",
       "      <td>ohc</td>\n",
       "      <td>four</td>\n",
       "      <td>114</td>\n",
       "      <td>23</td>\n",
       "      <td>13415.0</td>\n",
       "    </tr>\n",
       "  </tbody>\n",
       "</table>\n",
       "<p>61 rows × 10 columns</p>\n",
       "</div>"
      ],
      "text/plain": [
       "    index      company   body-style  wheel-base  length engine-type  \\\n",
       "0       0  alfa-romero  convertible        88.6   168.8        dohc   \n",
       "1       1  alfa-romero  convertible        88.6   168.8        dohc   \n",
       "2       2  alfa-romero    hatchback        94.5   171.2        ohcv   \n",
       "3       3         audi        sedan        99.8   176.6         ohc   \n",
       "4       4         audi        sedan        99.4   176.6         ohc   \n",
       "..    ...          ...          ...         ...     ...         ...   \n",
       "56     81   volkswagen        sedan        97.3   171.7         ohc   \n",
       "57     82   volkswagen        sedan        97.3   171.7         ohc   \n",
       "58     86   volkswagen        sedan        97.3   171.7         ohc   \n",
       "59     87        volvo        sedan       104.3   188.8         ohc   \n",
       "60     88        volvo        wagon       104.3   188.8         ohc   \n",
       "\n",
       "   num-of-cylinders  horsepower  average-mileage    price  \n",
       "0              four         111               21  13495.0  \n",
       "1              four         111               21  16500.0  \n",
       "2               six         154               19  16500.0  \n",
       "3              four         102               24  13950.0  \n",
       "4              five         115               18  17450.0  \n",
       "..              ...         ...              ...      ...  \n",
       "56             four          85               27   7975.0  \n",
       "57             four          52               37   7995.0  \n",
       "58             four         100               26   9995.0  \n",
       "59             four         114               23  12940.0  \n",
       "60             four         114               23  13415.0  \n",
       "\n",
       "[61 rows x 10 columns]"
      ]
     },
     "execution_count": 11,
     "metadata": {},
     "output_type": "execute_result"
    }
   ],
   "source": [
    "d=pd.read_csv('Automobile_data.csv')\n",
    "d"
   ]
  },
  {
   "cell_type": "markdown",
   "id": "dec7cb1c",
   "metadata": {},
   "source": [
    "## First and Last 5 Rows"
   ]
  },
  {
   "cell_type": "code",
   "execution_count": 3,
   "id": "512daa7c",
   "metadata": {},
   "outputs": [
    {
     "data": {
      "text/html": [
       "<div>\n",
       "<style scoped>\n",
       "    .dataframe tbody tr th:only-of-type {\n",
       "        vertical-align: middle;\n",
       "    }\n",
       "\n",
       "    .dataframe tbody tr th {\n",
       "        vertical-align: top;\n",
       "    }\n",
       "\n",
       "    .dataframe thead th {\n",
       "        text-align: right;\n",
       "    }\n",
       "</style>\n",
       "<table border=\"1\" class=\"dataframe\">\n",
       "  <thead>\n",
       "    <tr style=\"text-align: right;\">\n",
       "      <th></th>\n",
       "      <th>index</th>\n",
       "      <th>company</th>\n",
       "      <th>body-style</th>\n",
       "      <th>wheel-base</th>\n",
       "      <th>length</th>\n",
       "      <th>engine-type</th>\n",
       "      <th>num-of-cylinders</th>\n",
       "      <th>horsepower</th>\n",
       "      <th>average-mileage</th>\n",
       "      <th>price</th>\n",
       "    </tr>\n",
       "  </thead>\n",
       "  <tbody>\n",
       "    <tr>\n",
       "      <th>0</th>\n",
       "      <td>0</td>\n",
       "      <td>alfa-romero</td>\n",
       "      <td>convertible</td>\n",
       "      <td>88.6</td>\n",
       "      <td>168.8</td>\n",
       "      <td>dohc</td>\n",
       "      <td>four</td>\n",
       "      <td>111</td>\n",
       "      <td>21</td>\n",
       "      <td>13495.0</td>\n",
       "    </tr>\n",
       "    <tr>\n",
       "      <th>1</th>\n",
       "      <td>1</td>\n",
       "      <td>alfa-romero</td>\n",
       "      <td>convertible</td>\n",
       "      <td>88.6</td>\n",
       "      <td>168.8</td>\n",
       "      <td>dohc</td>\n",
       "      <td>four</td>\n",
       "      <td>111</td>\n",
       "      <td>21</td>\n",
       "      <td>16500.0</td>\n",
       "    </tr>\n",
       "    <tr>\n",
       "      <th>2</th>\n",
       "      <td>2</td>\n",
       "      <td>alfa-romero</td>\n",
       "      <td>hatchback</td>\n",
       "      <td>94.5</td>\n",
       "      <td>171.2</td>\n",
       "      <td>ohcv</td>\n",
       "      <td>six</td>\n",
       "      <td>154</td>\n",
       "      <td>19</td>\n",
       "      <td>16500.0</td>\n",
       "    </tr>\n",
       "    <tr>\n",
       "      <th>3</th>\n",
       "      <td>3</td>\n",
       "      <td>audi</td>\n",
       "      <td>sedan</td>\n",
       "      <td>99.8</td>\n",
       "      <td>176.6</td>\n",
       "      <td>ohc</td>\n",
       "      <td>four</td>\n",
       "      <td>102</td>\n",
       "      <td>24</td>\n",
       "      <td>13950.0</td>\n",
       "    </tr>\n",
       "    <tr>\n",
       "      <th>4</th>\n",
       "      <td>4</td>\n",
       "      <td>audi</td>\n",
       "      <td>sedan</td>\n",
       "      <td>99.4</td>\n",
       "      <td>176.6</td>\n",
       "      <td>ohc</td>\n",
       "      <td>five</td>\n",
       "      <td>115</td>\n",
       "      <td>18</td>\n",
       "      <td>17450.0</td>\n",
       "    </tr>\n",
       "  </tbody>\n",
       "</table>\n",
       "</div>"
      ],
      "text/plain": [
       "   index      company   body-style  wheel-base  length engine-type  \\\n",
       "0      0  alfa-romero  convertible        88.6   168.8        dohc   \n",
       "1      1  alfa-romero  convertible        88.6   168.8        dohc   \n",
       "2      2  alfa-romero    hatchback        94.5   171.2        ohcv   \n",
       "3      3         audi        sedan        99.8   176.6         ohc   \n",
       "4      4         audi        sedan        99.4   176.6         ohc   \n",
       "\n",
       "  num-of-cylinders  horsepower  average-mileage    price  \n",
       "0             four         111               21  13495.0  \n",
       "1             four         111               21  16500.0  \n",
       "2              six         154               19  16500.0  \n",
       "3             four         102               24  13950.0  \n",
       "4             five         115               18  17450.0  "
      ]
     },
     "execution_count": 3,
     "metadata": {},
     "output_type": "execute_result"
    }
   ],
   "source": [
    "d.head()"
   ]
  },
  {
   "cell_type": "code",
   "execution_count": 4,
   "id": "0d2001ff",
   "metadata": {},
   "outputs": [
    {
     "data": {
      "text/html": [
       "<div>\n",
       "<style scoped>\n",
       "    .dataframe tbody tr th:only-of-type {\n",
       "        vertical-align: middle;\n",
       "    }\n",
       "\n",
       "    .dataframe tbody tr th {\n",
       "        vertical-align: top;\n",
       "    }\n",
       "\n",
       "    .dataframe thead th {\n",
       "        text-align: right;\n",
       "    }\n",
       "</style>\n",
       "<table border=\"1\" class=\"dataframe\">\n",
       "  <thead>\n",
       "    <tr style=\"text-align: right;\">\n",
       "      <th></th>\n",
       "      <th>index</th>\n",
       "      <th>company</th>\n",
       "      <th>body-style</th>\n",
       "      <th>wheel-base</th>\n",
       "      <th>length</th>\n",
       "      <th>engine-type</th>\n",
       "      <th>num-of-cylinders</th>\n",
       "      <th>horsepower</th>\n",
       "      <th>average-mileage</th>\n",
       "      <th>price</th>\n",
       "    </tr>\n",
       "  </thead>\n",
       "  <tbody>\n",
       "    <tr>\n",
       "      <th>56</th>\n",
       "      <td>81</td>\n",
       "      <td>volkswagen</td>\n",
       "      <td>sedan</td>\n",
       "      <td>97.3</td>\n",
       "      <td>171.7</td>\n",
       "      <td>ohc</td>\n",
       "      <td>four</td>\n",
       "      <td>85</td>\n",
       "      <td>27</td>\n",
       "      <td>7975.0</td>\n",
       "    </tr>\n",
       "    <tr>\n",
       "      <th>57</th>\n",
       "      <td>82</td>\n",
       "      <td>volkswagen</td>\n",
       "      <td>sedan</td>\n",
       "      <td>97.3</td>\n",
       "      <td>171.7</td>\n",
       "      <td>ohc</td>\n",
       "      <td>four</td>\n",
       "      <td>52</td>\n",
       "      <td>37</td>\n",
       "      <td>7995.0</td>\n",
       "    </tr>\n",
       "    <tr>\n",
       "      <th>58</th>\n",
       "      <td>86</td>\n",
       "      <td>volkswagen</td>\n",
       "      <td>sedan</td>\n",
       "      <td>97.3</td>\n",
       "      <td>171.7</td>\n",
       "      <td>ohc</td>\n",
       "      <td>four</td>\n",
       "      <td>100</td>\n",
       "      <td>26</td>\n",
       "      <td>9995.0</td>\n",
       "    </tr>\n",
       "    <tr>\n",
       "      <th>59</th>\n",
       "      <td>87</td>\n",
       "      <td>volvo</td>\n",
       "      <td>sedan</td>\n",
       "      <td>104.3</td>\n",
       "      <td>188.8</td>\n",
       "      <td>ohc</td>\n",
       "      <td>four</td>\n",
       "      <td>114</td>\n",
       "      <td>23</td>\n",
       "      <td>12940.0</td>\n",
       "    </tr>\n",
       "    <tr>\n",
       "      <th>60</th>\n",
       "      <td>88</td>\n",
       "      <td>volvo</td>\n",
       "      <td>wagon</td>\n",
       "      <td>104.3</td>\n",
       "      <td>188.8</td>\n",
       "      <td>ohc</td>\n",
       "      <td>four</td>\n",
       "      <td>114</td>\n",
       "      <td>23</td>\n",
       "      <td>13415.0</td>\n",
       "    </tr>\n",
       "  </tbody>\n",
       "</table>\n",
       "</div>"
      ],
      "text/plain": [
       "    index     company body-style  wheel-base  length engine-type  \\\n",
       "56     81  volkswagen      sedan        97.3   171.7         ohc   \n",
       "57     82  volkswagen      sedan        97.3   171.7         ohc   \n",
       "58     86  volkswagen      sedan        97.3   171.7         ohc   \n",
       "59     87       volvo      sedan       104.3   188.8         ohc   \n",
       "60     88       volvo      wagon       104.3   188.8         ohc   \n",
       "\n",
       "   num-of-cylinders  horsepower  average-mileage    price  \n",
       "56             four          85               27   7975.0  \n",
       "57             four          52               37   7995.0  \n",
       "58             four         100               26   9995.0  \n",
       "59             four         114               23  12940.0  \n",
       "60             four         114               23  13415.0  "
      ]
     },
     "execution_count": 4,
     "metadata": {},
     "output_type": "execute_result"
    }
   ],
   "source": [
    "d.tail()"
   ]
  },
  {
   "cell_type": "markdown",
   "id": "31ea4943",
   "metadata": {},
   "source": [
    "## Shape of the Dataset"
   ]
  },
  {
   "cell_type": "code",
   "execution_count": 5,
   "id": "4cc9aaed",
   "metadata": {},
   "outputs": [
    {
     "data": {
      "text/plain": [
       "(61, 10)"
      ]
     },
     "execution_count": 5,
     "metadata": {},
     "output_type": "execute_result"
    }
   ],
   "source": [
    "d.shape"
   ]
  },
  {
   "cell_type": "markdown",
   "id": "ee21bec0",
   "metadata": {},
   "source": [
    "## Column Names of the Dataset"
   ]
  },
  {
   "cell_type": "code",
   "execution_count": 6,
   "id": "08686631",
   "metadata": {},
   "outputs": [
    {
     "data": {
      "text/plain": [
       "Index(['index', 'company', 'body-style', 'wheel-base', 'length', 'engine-type',\n",
       "       'num-of-cylinders', 'horsepower', 'average-mileage', 'price'],\n",
       "      dtype='object')"
      ]
     },
     "execution_count": 6,
     "metadata": {},
     "output_type": "execute_result"
    }
   ],
   "source": [
    "d.columns"
   ]
  },
  {
   "cell_type": "markdown",
   "id": "d7bbc0c5",
   "metadata": {},
   "source": [
    "## Finding Type of the data"
   ]
  },
  {
   "cell_type": "code",
   "execution_count": 7,
   "id": "65aa28eb",
   "metadata": {},
   "outputs": [
    {
     "data": {
      "text/plain": [
       "index                 int64\n",
       "company              object\n",
       "body-style           object\n",
       "wheel-base          float64\n",
       "length              float64\n",
       "engine-type          object\n",
       "num-of-cylinders     object\n",
       "horsepower            int64\n",
       "average-mileage       int64\n",
       "price               float64\n",
       "dtype: object"
      ]
     },
     "execution_count": 7,
     "metadata": {},
     "output_type": "execute_result"
    }
   ],
   "source": [
    "d.dtypes"
   ]
  },
  {
   "cell_type": "markdown",
   "id": "b67eb2c6",
   "metadata": {},
   "source": [
    "## printing information about the DataFrame"
   ]
  },
  {
   "cell_type": "code",
   "execution_count": 8,
   "id": "5cb393a6",
   "metadata": {},
   "outputs": [
    {
     "name": "stdout",
     "output_type": "stream",
     "text": [
      "<class 'pandas.core.frame.DataFrame'>\n",
      "RangeIndex: 61 entries, 0 to 60\n",
      "Data columns (total 10 columns):\n",
      " #   Column            Non-Null Count  Dtype  \n",
      "---  ------            --------------  -----  \n",
      " 0   index             61 non-null     int64  \n",
      " 1   company           61 non-null     object \n",
      " 2   body-style        61 non-null     object \n",
      " 3   wheel-base        61 non-null     float64\n",
      " 4   length            61 non-null     float64\n",
      " 5   engine-type       61 non-null     object \n",
      " 6   num-of-cylinders  61 non-null     object \n",
      " 7   horsepower        61 non-null     int64  \n",
      " 8   average-mileage   61 non-null     int64  \n",
      " 9   price             58 non-null     float64\n",
      "dtypes: float64(3), int64(3), object(4)\n",
      "memory usage: 4.9+ KB\n"
     ]
    }
   ],
   "source": [
    "d.info()"
   ]
  },
  {
   "cell_type": "markdown",
   "id": "8b6a49b9",
   "metadata": {},
   "source": [
    "## Calculating some Statistical data"
   ]
  },
  {
   "cell_type": "code",
   "execution_count": 16,
   "id": "cd2124ac",
   "metadata": {},
   "outputs": [
    {
     "data": {
      "text/html": [
       "<div>\n",
       "<style scoped>\n",
       "    .dataframe tbody tr th:only-of-type {\n",
       "        vertical-align: middle;\n",
       "    }\n",
       "\n",
       "    .dataframe tbody tr th {\n",
       "        vertical-align: top;\n",
       "    }\n",
       "\n",
       "    .dataframe thead th {\n",
       "        text-align: right;\n",
       "    }\n",
       "</style>\n",
       "<table border=\"1\" class=\"dataframe\">\n",
       "  <thead>\n",
       "    <tr style=\"text-align: right;\">\n",
       "      <th></th>\n",
       "      <th>index</th>\n",
       "      <th>wheel-base</th>\n",
       "      <th>length</th>\n",
       "      <th>horsepower</th>\n",
       "      <th>average-mileage</th>\n",
       "      <th>price</th>\n",
       "    </tr>\n",
       "  </thead>\n",
       "  <tbody>\n",
       "    <tr>\n",
       "      <th>count</th>\n",
       "      <td>61.000000</td>\n",
       "      <td>61.000000</td>\n",
       "      <td>61.000000</td>\n",
       "      <td>61.000000</td>\n",
       "      <td>61.000000</td>\n",
       "      <td>58.000000</td>\n",
       "    </tr>\n",
       "    <tr>\n",
       "      <th>mean</th>\n",
       "      <td>40.885246</td>\n",
       "      <td>98.481967</td>\n",
       "      <td>173.098361</td>\n",
       "      <td>107.852459</td>\n",
       "      <td>25.803279</td>\n",
       "      <td>15387.000000</td>\n",
       "    </tr>\n",
       "    <tr>\n",
       "      <th>std</th>\n",
       "      <td>25.429706</td>\n",
       "      <td>6.679234</td>\n",
       "      <td>14.021846</td>\n",
       "      <td>53.524398</td>\n",
       "      <td>8.129821</td>\n",
       "      <td>11320.259841</td>\n",
       "    </tr>\n",
       "    <tr>\n",
       "      <th>min</th>\n",
       "      <td>0.000000</td>\n",
       "      <td>88.400000</td>\n",
       "      <td>141.100000</td>\n",
       "      <td>48.000000</td>\n",
       "      <td>13.000000</td>\n",
       "      <td>5151.000000</td>\n",
       "    </tr>\n",
       "    <tr>\n",
       "      <th>25%</th>\n",
       "      <td>18.000000</td>\n",
       "      <td>94.500000</td>\n",
       "      <td>159.100000</td>\n",
       "      <td>68.000000</td>\n",
       "      <td>19.000000</td>\n",
       "      <td>6808.500000</td>\n",
       "    </tr>\n",
       "    <tr>\n",
       "      <th>50%</th>\n",
       "      <td>39.000000</td>\n",
       "      <td>96.300000</td>\n",
       "      <td>171.200000</td>\n",
       "      <td>100.000000</td>\n",
       "      <td>25.000000</td>\n",
       "      <td>11095.000000</td>\n",
       "    </tr>\n",
       "    <tr>\n",
       "      <th>75%</th>\n",
       "      <td>61.000000</td>\n",
       "      <td>101.200000</td>\n",
       "      <td>177.300000</td>\n",
       "      <td>123.000000</td>\n",
       "      <td>31.000000</td>\n",
       "      <td>18120.500000</td>\n",
       "    </tr>\n",
       "    <tr>\n",
       "      <th>max</th>\n",
       "      <td>88.000000</td>\n",
       "      <td>120.900000</td>\n",
       "      <td>208.100000</td>\n",
       "      <td>288.000000</td>\n",
       "      <td>47.000000</td>\n",
       "      <td>45400.000000</td>\n",
       "    </tr>\n",
       "  </tbody>\n",
       "</table>\n",
       "</div>"
      ],
      "text/plain": [
       "           index  wheel-base      length  horsepower  average-mileage  \\\n",
       "count  61.000000   61.000000   61.000000   61.000000        61.000000   \n",
       "mean   40.885246   98.481967  173.098361  107.852459        25.803279   \n",
       "std    25.429706    6.679234   14.021846   53.524398         8.129821   \n",
       "min     0.000000   88.400000  141.100000   48.000000        13.000000   \n",
       "25%    18.000000   94.500000  159.100000   68.000000        19.000000   \n",
       "50%    39.000000   96.300000  171.200000  100.000000        25.000000   \n",
       "75%    61.000000  101.200000  177.300000  123.000000        31.000000   \n",
       "max    88.000000  120.900000  208.100000  288.000000        47.000000   \n",
       "\n",
       "              price  \n",
       "count     58.000000  \n",
       "mean   15387.000000  \n",
       "std    11320.259841  \n",
       "min     5151.000000  \n",
       "25%     6808.500000  \n",
       "50%    11095.000000  \n",
       "75%    18120.500000  \n",
       "max    45400.000000  "
      ]
     },
     "execution_count": 16,
     "metadata": {},
     "output_type": "execute_result"
    }
   ],
   "source": [
    "d.describe()"
   ]
  },
  {
   "cell_type": "markdown",
   "id": "162c2447",
   "metadata": {},
   "source": [
    "## Cleaning the Dataset by checking nullvalues and if its containing duplicates"
   ]
  },
  {
   "cell_type": "code",
   "execution_count": 7,
   "id": "1dbb140d",
   "metadata": {},
   "outputs": [
    {
     "data": {
      "text/plain": [
       "index               0\n",
       "company             0\n",
       "body-style          0\n",
       "wheel-base          0\n",
       "length              0\n",
       "engine-type         0\n",
       "num-of-cylinders    0\n",
       "horsepower          0\n",
       "average-mileage     0\n",
       "price               3\n",
       "dtype: int64"
      ]
     },
     "execution_count": 7,
     "metadata": {},
     "output_type": "execute_result"
    }
   ],
   "source": [
    "d.isnull().sum()"
   ]
  },
  {
   "cell_type": "code",
   "execution_count": 11,
   "id": "bf41f1ee",
   "metadata": {},
   "outputs": [],
   "source": [
    "d.dropna(inplace=True)"
   ]
  },
  {
   "cell_type": "code",
   "execution_count": 12,
   "id": "a947f111",
   "metadata": {},
   "outputs": [
    {
     "data": {
      "text/plain": [
       "index               0\n",
       "company             0\n",
       "body-style          0\n",
       "wheel-base          0\n",
       "length              0\n",
       "engine-type         0\n",
       "num-of-cylinders    0\n",
       "horsepower          0\n",
       "average-mileage     0\n",
       "price               0\n",
       "dtype: int64"
      ]
     },
     "execution_count": 12,
     "metadata": {},
     "output_type": "execute_result"
    }
   ],
   "source": [
    "d.isnull().sum()"
   ]
  },
  {
   "cell_type": "code",
   "execution_count": 13,
   "id": "2ac97cde",
   "metadata": {},
   "outputs": [
    {
     "data": {
      "text/plain": [
       "0"
      ]
     },
     "execution_count": 13,
     "metadata": {},
     "output_type": "execute_result"
    }
   ],
   "source": [
    "d.duplicated().sum()"
   ]
  },
  {
   "cell_type": "code",
   "execution_count": 12,
   "id": "fad12eed",
   "metadata": {},
   "outputs": [
    {
     "data": {
      "text/html": [
       "<div>\n",
       "<style scoped>\n",
       "    .dataframe tbody tr th:only-of-type {\n",
       "        vertical-align: middle;\n",
       "    }\n",
       "\n",
       "    .dataframe tbody tr th {\n",
       "        vertical-align: top;\n",
       "    }\n",
       "\n",
       "    .dataframe thead th {\n",
       "        text-align: right;\n",
       "    }\n",
       "</style>\n",
       "<table border=\"1\" class=\"dataframe\">\n",
       "  <thead>\n",
       "    <tr style=\"text-align: right;\">\n",
       "      <th></th>\n",
       "      <th>index</th>\n",
       "      <th>company</th>\n",
       "      <th>body-style</th>\n",
       "      <th>wheel-base</th>\n",
       "      <th>length</th>\n",
       "      <th>engine-type</th>\n",
       "      <th>num-of-cylinders</th>\n",
       "      <th>horsepower</th>\n",
       "      <th>average-mileage</th>\n",
       "      <th>price</th>\n",
       "    </tr>\n",
       "  </thead>\n",
       "  <tbody>\n",
       "    <tr>\n",
       "      <th>0</th>\n",
       "      <td>0</td>\n",
       "      <td>alfa-romero</td>\n",
       "      <td>convertible</td>\n",
       "      <td>88.6</td>\n",
       "      <td>168.8</td>\n",
       "      <td>dohc</td>\n",
       "      <td>four</td>\n",
       "      <td>111</td>\n",
       "      <td>21</td>\n",
       "      <td>13495.0</td>\n",
       "    </tr>\n",
       "    <tr>\n",
       "      <th>1</th>\n",
       "      <td>1</td>\n",
       "      <td>alfa-romero</td>\n",
       "      <td>convertible</td>\n",
       "      <td>88.6</td>\n",
       "      <td>168.8</td>\n",
       "      <td>dohc</td>\n",
       "      <td>four</td>\n",
       "      <td>111</td>\n",
       "      <td>21</td>\n",
       "      <td>16500.0</td>\n",
       "    </tr>\n",
       "    <tr>\n",
       "      <th>2</th>\n",
       "      <td>2</td>\n",
       "      <td>alfa-romero</td>\n",
       "      <td>hatchback</td>\n",
       "      <td>94.5</td>\n",
       "      <td>171.2</td>\n",
       "      <td>ohcv</td>\n",
       "      <td>six</td>\n",
       "      <td>154</td>\n",
       "      <td>19</td>\n",
       "      <td>16500.0</td>\n",
       "    </tr>\n",
       "    <tr>\n",
       "      <th>3</th>\n",
       "      <td>3</td>\n",
       "      <td>audi</td>\n",
       "      <td>sedan</td>\n",
       "      <td>99.8</td>\n",
       "      <td>176.6</td>\n",
       "      <td>ohc</td>\n",
       "      <td>four</td>\n",
       "      <td>102</td>\n",
       "      <td>24</td>\n",
       "      <td>13950.0</td>\n",
       "    </tr>\n",
       "    <tr>\n",
       "      <th>4</th>\n",
       "      <td>4</td>\n",
       "      <td>audi</td>\n",
       "      <td>sedan</td>\n",
       "      <td>99.4</td>\n",
       "      <td>176.6</td>\n",
       "      <td>ohc</td>\n",
       "      <td>five</td>\n",
       "      <td>115</td>\n",
       "      <td>18</td>\n",
       "      <td>17450.0</td>\n",
       "    </tr>\n",
       "    <tr>\n",
       "      <th>...</th>\n",
       "      <td>...</td>\n",
       "      <td>...</td>\n",
       "      <td>...</td>\n",
       "      <td>...</td>\n",
       "      <td>...</td>\n",
       "      <td>...</td>\n",
       "      <td>...</td>\n",
       "      <td>...</td>\n",
       "      <td>...</td>\n",
       "      <td>...</td>\n",
       "    </tr>\n",
       "    <tr>\n",
       "      <th>56</th>\n",
       "      <td>81</td>\n",
       "      <td>volkswagen</td>\n",
       "      <td>sedan</td>\n",
       "      <td>97.3</td>\n",
       "      <td>171.7</td>\n",
       "      <td>ohc</td>\n",
       "      <td>four</td>\n",
       "      <td>85</td>\n",
       "      <td>27</td>\n",
       "      <td>7975.0</td>\n",
       "    </tr>\n",
       "    <tr>\n",
       "      <th>57</th>\n",
       "      <td>82</td>\n",
       "      <td>volkswagen</td>\n",
       "      <td>sedan</td>\n",
       "      <td>97.3</td>\n",
       "      <td>171.7</td>\n",
       "      <td>ohc</td>\n",
       "      <td>four</td>\n",
       "      <td>52</td>\n",
       "      <td>37</td>\n",
       "      <td>7995.0</td>\n",
       "    </tr>\n",
       "    <tr>\n",
       "      <th>58</th>\n",
       "      <td>86</td>\n",
       "      <td>volkswagen</td>\n",
       "      <td>sedan</td>\n",
       "      <td>97.3</td>\n",
       "      <td>171.7</td>\n",
       "      <td>ohc</td>\n",
       "      <td>four</td>\n",
       "      <td>100</td>\n",
       "      <td>26</td>\n",
       "      <td>9995.0</td>\n",
       "    </tr>\n",
       "    <tr>\n",
       "      <th>59</th>\n",
       "      <td>87</td>\n",
       "      <td>volvo</td>\n",
       "      <td>sedan</td>\n",
       "      <td>104.3</td>\n",
       "      <td>188.8</td>\n",
       "      <td>ohc</td>\n",
       "      <td>four</td>\n",
       "      <td>114</td>\n",
       "      <td>23</td>\n",
       "      <td>12940.0</td>\n",
       "    </tr>\n",
       "    <tr>\n",
       "      <th>60</th>\n",
       "      <td>88</td>\n",
       "      <td>volvo</td>\n",
       "      <td>wagon</td>\n",
       "      <td>104.3</td>\n",
       "      <td>188.8</td>\n",
       "      <td>ohc</td>\n",
       "      <td>four</td>\n",
       "      <td>114</td>\n",
       "      <td>23</td>\n",
       "      <td>13415.0</td>\n",
       "    </tr>\n",
       "  </tbody>\n",
       "</table>\n",
       "<p>61 rows × 10 columns</p>\n",
       "</div>"
      ],
      "text/plain": [
       "    index      company   body-style  wheel-base  length engine-type  \\\n",
       "0       0  alfa-romero  convertible        88.6   168.8        dohc   \n",
       "1       1  alfa-romero  convertible        88.6   168.8        dohc   \n",
       "2       2  alfa-romero    hatchback        94.5   171.2        ohcv   \n",
       "3       3         audi        sedan        99.8   176.6         ohc   \n",
       "4       4         audi        sedan        99.4   176.6         ohc   \n",
       "..    ...          ...          ...         ...     ...         ...   \n",
       "56     81   volkswagen        sedan        97.3   171.7         ohc   \n",
       "57     82   volkswagen        sedan        97.3   171.7         ohc   \n",
       "58     86   volkswagen        sedan        97.3   171.7         ohc   \n",
       "59     87        volvo        sedan       104.3   188.8         ohc   \n",
       "60     88        volvo        wagon       104.3   188.8         ohc   \n",
       "\n",
       "   num-of-cylinders  horsepower  average-mileage    price  \n",
       "0              four         111               21  13495.0  \n",
       "1              four         111               21  16500.0  \n",
       "2               six         154               19  16500.0  \n",
       "3              four         102               24  13950.0  \n",
       "4              five         115               18  17450.0  \n",
       "..              ...         ...              ...      ...  \n",
       "56             four          85               27   7975.0  \n",
       "57             four          52               37   7995.0  \n",
       "58             four         100               26   9995.0  \n",
       "59             four         114               23  12940.0  \n",
       "60             four         114               23  13415.0  \n",
       "\n",
       "[61 rows x 10 columns]"
      ]
     },
     "execution_count": 12,
     "metadata": {},
     "output_type": "execute_result"
    }
   ],
   "source": [
    "d"
   ]
  },
  {
   "cell_type": "code",
   "execution_count": 14,
   "id": "94396054",
   "metadata": {},
   "outputs": [
    {
     "data": {
      "text/html": [
       "<div>\n",
       "<style scoped>\n",
       "    .dataframe tbody tr th:only-of-type {\n",
       "        vertical-align: middle;\n",
       "    }\n",
       "\n",
       "    .dataframe tbody tr th {\n",
       "        vertical-align: top;\n",
       "    }\n",
       "\n",
       "    .dataframe thead th {\n",
       "        text-align: right;\n",
       "    }\n",
       "</style>\n",
       "<table border=\"1\" class=\"dataframe\">\n",
       "  <thead>\n",
       "    <tr style=\"text-align: right;\">\n",
       "      <th></th>\n",
       "      <th>company</th>\n",
       "      <th>body-style</th>\n",
       "      <th>wheel-base</th>\n",
       "      <th>length</th>\n",
       "      <th>engine-type</th>\n",
       "      <th>num-of-cylinders</th>\n",
       "      <th>horsepower</th>\n",
       "      <th>average-mileage</th>\n",
       "      <th>price</th>\n",
       "    </tr>\n",
       "  </thead>\n",
       "  <tbody>\n",
       "    <tr>\n",
       "      <th>0</th>\n",
       "      <td>alfa-romero</td>\n",
       "      <td>convertible</td>\n",
       "      <td>88.6</td>\n",
       "      <td>168.8</td>\n",
       "      <td>dohc</td>\n",
       "      <td>four</td>\n",
       "      <td>111</td>\n",
       "      <td>21</td>\n",
       "      <td>13495.0</td>\n",
       "    </tr>\n",
       "    <tr>\n",
       "      <th>1</th>\n",
       "      <td>alfa-romero</td>\n",
       "      <td>convertible</td>\n",
       "      <td>88.6</td>\n",
       "      <td>168.8</td>\n",
       "      <td>dohc</td>\n",
       "      <td>four</td>\n",
       "      <td>111</td>\n",
       "      <td>21</td>\n",
       "      <td>16500.0</td>\n",
       "    </tr>\n",
       "    <tr>\n",
       "      <th>2</th>\n",
       "      <td>alfa-romero</td>\n",
       "      <td>hatchback</td>\n",
       "      <td>94.5</td>\n",
       "      <td>171.2</td>\n",
       "      <td>ohcv</td>\n",
       "      <td>six</td>\n",
       "      <td>154</td>\n",
       "      <td>19</td>\n",
       "      <td>16500.0</td>\n",
       "    </tr>\n",
       "    <tr>\n",
       "      <th>3</th>\n",
       "      <td>audi</td>\n",
       "      <td>sedan</td>\n",
       "      <td>99.8</td>\n",
       "      <td>176.6</td>\n",
       "      <td>ohc</td>\n",
       "      <td>four</td>\n",
       "      <td>102</td>\n",
       "      <td>24</td>\n",
       "      <td>13950.0</td>\n",
       "    </tr>\n",
       "    <tr>\n",
       "      <th>4</th>\n",
       "      <td>audi</td>\n",
       "      <td>sedan</td>\n",
       "      <td>99.4</td>\n",
       "      <td>176.6</td>\n",
       "      <td>ohc</td>\n",
       "      <td>five</td>\n",
       "      <td>115</td>\n",
       "      <td>18</td>\n",
       "      <td>17450.0</td>\n",
       "    </tr>\n",
       "    <tr>\n",
       "      <th>...</th>\n",
       "      <td>...</td>\n",
       "      <td>...</td>\n",
       "      <td>...</td>\n",
       "      <td>...</td>\n",
       "      <td>...</td>\n",
       "      <td>...</td>\n",
       "      <td>...</td>\n",
       "      <td>...</td>\n",
       "      <td>...</td>\n",
       "    </tr>\n",
       "    <tr>\n",
       "      <th>56</th>\n",
       "      <td>volkswagen</td>\n",
       "      <td>sedan</td>\n",
       "      <td>97.3</td>\n",
       "      <td>171.7</td>\n",
       "      <td>ohc</td>\n",
       "      <td>four</td>\n",
       "      <td>85</td>\n",
       "      <td>27</td>\n",
       "      <td>7975.0</td>\n",
       "    </tr>\n",
       "    <tr>\n",
       "      <th>57</th>\n",
       "      <td>volkswagen</td>\n",
       "      <td>sedan</td>\n",
       "      <td>97.3</td>\n",
       "      <td>171.7</td>\n",
       "      <td>ohc</td>\n",
       "      <td>four</td>\n",
       "      <td>52</td>\n",
       "      <td>37</td>\n",
       "      <td>7995.0</td>\n",
       "    </tr>\n",
       "    <tr>\n",
       "      <th>58</th>\n",
       "      <td>volkswagen</td>\n",
       "      <td>sedan</td>\n",
       "      <td>97.3</td>\n",
       "      <td>171.7</td>\n",
       "      <td>ohc</td>\n",
       "      <td>four</td>\n",
       "      <td>100</td>\n",
       "      <td>26</td>\n",
       "      <td>9995.0</td>\n",
       "    </tr>\n",
       "    <tr>\n",
       "      <th>59</th>\n",
       "      <td>volvo</td>\n",
       "      <td>sedan</td>\n",
       "      <td>104.3</td>\n",
       "      <td>188.8</td>\n",
       "      <td>ohc</td>\n",
       "      <td>four</td>\n",
       "      <td>114</td>\n",
       "      <td>23</td>\n",
       "      <td>12940.0</td>\n",
       "    </tr>\n",
       "    <tr>\n",
       "      <th>60</th>\n",
       "      <td>volvo</td>\n",
       "      <td>wagon</td>\n",
       "      <td>104.3</td>\n",
       "      <td>188.8</td>\n",
       "      <td>ohc</td>\n",
       "      <td>four</td>\n",
       "      <td>114</td>\n",
       "      <td>23</td>\n",
       "      <td>13415.0</td>\n",
       "    </tr>\n",
       "  </tbody>\n",
       "</table>\n",
       "<p>61 rows × 9 columns</p>\n",
       "</div>"
      ],
      "text/plain": [
       "        company   body-style  wheel-base  length engine-type num-of-cylinders  \\\n",
       "0   alfa-romero  convertible        88.6   168.8        dohc             four   \n",
       "1   alfa-romero  convertible        88.6   168.8        dohc             four   \n",
       "2   alfa-romero    hatchback        94.5   171.2        ohcv              six   \n",
       "3          audi        sedan        99.8   176.6         ohc             four   \n",
       "4          audi        sedan        99.4   176.6         ohc             five   \n",
       "..          ...          ...         ...     ...         ...              ...   \n",
       "56   volkswagen        sedan        97.3   171.7         ohc             four   \n",
       "57   volkswagen        sedan        97.3   171.7         ohc             four   \n",
       "58   volkswagen        sedan        97.3   171.7         ohc             four   \n",
       "59        volvo        sedan       104.3   188.8         ohc             four   \n",
       "60        volvo        wagon       104.3   188.8         ohc             four   \n",
       "\n",
       "    horsepower  average-mileage    price  \n",
       "0          111               21  13495.0  \n",
       "1          111               21  16500.0  \n",
       "2          154               19  16500.0  \n",
       "3          102               24  13950.0  \n",
       "4          115               18  17450.0  \n",
       "..         ...              ...      ...  \n",
       "56          85               27   7975.0  \n",
       "57          52               37   7995.0  \n",
       "58         100               26   9995.0  \n",
       "59         114               23  12940.0  \n",
       "60         114               23  13415.0  \n",
       "\n",
       "[61 rows x 9 columns]"
      ]
     },
     "execution_count": 14,
     "metadata": {},
     "output_type": "execute_result"
    }
   ],
   "source": [
    "d=d.drop(['index'],axis=1)\n",
    "d"
   ]
  },
  {
   "cell_type": "markdown",
   "id": "4a0deac7",
   "metadata": {},
   "source": [
    "## Sorting Cars by Company and Price"
   ]
  },
  {
   "cell_type": "code",
   "execution_count": 16,
   "id": "6527527f",
   "metadata": {},
   "outputs": [
    {
     "data": {
      "text/html": [
       "<div>\n",
       "<style scoped>\n",
       "    .dataframe tbody tr th:only-of-type {\n",
       "        vertical-align: middle;\n",
       "    }\n",
       "\n",
       "    .dataframe tbody tr th {\n",
       "        vertical-align: top;\n",
       "    }\n",
       "\n",
       "    .dataframe thead th {\n",
       "        text-align: right;\n",
       "    }\n",
       "</style>\n",
       "<table border=\"1\" class=\"dataframe\">\n",
       "  <thead>\n",
       "    <tr style=\"text-align: right;\">\n",
       "      <th></th>\n",
       "      <th>price</th>\n",
       "    </tr>\n",
       "    <tr>\n",
       "      <th>company</th>\n",
       "      <th></th>\n",
       "    </tr>\n",
       "  </thead>\n",
       "  <tbody>\n",
       "    <tr>\n",
       "      <th>mercedes-benz</th>\n",
       "      <td>45400.0</td>\n",
       "    </tr>\n",
       "    <tr>\n",
       "      <th>bmw</th>\n",
       "      <td>41315.0</td>\n",
       "    </tr>\n",
       "    <tr>\n",
       "      <th>porsche</th>\n",
       "      <td>37028.0</td>\n",
       "    </tr>\n",
       "    <tr>\n",
       "      <th>jaguar</th>\n",
       "      <td>36000.0</td>\n",
       "    </tr>\n",
       "    <tr>\n",
       "      <th>audi</th>\n",
       "      <td>18920.0</td>\n",
       "    </tr>\n",
       "    <tr>\n",
       "      <th>mazda</th>\n",
       "      <td>18344.0</td>\n",
       "    </tr>\n",
       "    <tr>\n",
       "      <th>alfa-romero</th>\n",
       "      <td>16500.0</td>\n",
       "    </tr>\n",
       "    <tr>\n",
       "      <th>toyota</th>\n",
       "      <td>15750.0</td>\n",
       "    </tr>\n",
       "    <tr>\n",
       "      <th>nissan</th>\n",
       "      <td>13499.0</td>\n",
       "    </tr>\n",
       "    <tr>\n",
       "      <th>volvo</th>\n",
       "      <td>13415.0</td>\n",
       "    </tr>\n",
       "    <tr>\n",
       "      <th>honda</th>\n",
       "      <td>12945.0</td>\n",
       "    </tr>\n",
       "    <tr>\n",
       "      <th>volkswagen</th>\n",
       "      <td>9995.0</td>\n",
       "    </tr>\n",
       "    <tr>\n",
       "      <th>mitsubishi</th>\n",
       "      <td>8189.0</td>\n",
       "    </tr>\n",
       "    <tr>\n",
       "      <th>isuzu</th>\n",
       "      <td>6785.0</td>\n",
       "    </tr>\n",
       "    <tr>\n",
       "      <th>chevrolet</th>\n",
       "      <td>6575.0</td>\n",
       "    </tr>\n",
       "    <tr>\n",
       "      <th>dodge</th>\n",
       "      <td>6377.0</td>\n",
       "    </tr>\n",
       "  </tbody>\n",
       "</table>\n",
       "</div>"
      ],
      "text/plain": [
       "                 price\n",
       "company               \n",
       "mercedes-benz  45400.0\n",
       "bmw            41315.0\n",
       "porsche        37028.0\n",
       "jaguar         36000.0\n",
       "audi           18920.0\n",
       "mazda          18344.0\n",
       "alfa-romero    16500.0\n",
       "toyota         15750.0\n",
       "nissan         13499.0\n",
       "volvo          13415.0\n",
       "honda          12945.0\n",
       "volkswagen      9995.0\n",
       "mitsubishi      8189.0\n",
       "isuzu           6785.0\n",
       "chevrolet       6575.0\n",
       "dodge           6377.0"
      ]
     },
     "execution_count": 16,
     "metadata": {},
     "output_type": "execute_result"
    }
   ],
   "source": [
    "d1=d.copy()\n",
    "d1=d.groupby(['company'])['price'].max().sort_values(ascending=False)\n",
    "d1=pd.DataFrame(d1)\n",
    "d1\n"
   ]
  },
  {
   "cell_type": "markdown",
   "id": "a88c6aec",
   "metadata": {},
   "source": [
    "## Most Expensive Car Company Name"
   ]
  },
  {
   "cell_type": "code",
   "execution_count": 15,
   "id": "effe55d4",
   "metadata": {},
   "outputs": [
    {
     "data": {
      "text/html": [
       "<div>\n",
       "<style scoped>\n",
       "    .dataframe tbody tr th:only-of-type {\n",
       "        vertical-align: middle;\n",
       "    }\n",
       "\n",
       "    .dataframe tbody tr th {\n",
       "        vertical-align: top;\n",
       "    }\n",
       "\n",
       "    .dataframe thead th {\n",
       "        text-align: right;\n",
       "    }\n",
       "</style>\n",
       "<table border=\"1\" class=\"dataframe\">\n",
       "  <thead>\n",
       "    <tr style=\"text-align: right;\">\n",
       "      <th></th>\n",
       "      <th>company</th>\n",
       "      <th>price</th>\n",
       "    </tr>\n",
       "  </thead>\n",
       "  <tbody>\n",
       "    <tr>\n",
       "      <th>35</th>\n",
       "      <td>mercedes-benz</td>\n",
       "      <td>45400.0</td>\n",
       "    </tr>\n",
       "  </tbody>\n",
       "</table>\n",
       "</div>"
      ],
      "text/plain": [
       "          company    price\n",
       "35  mercedes-benz  45400.0"
      ]
     },
     "execution_count": 15,
     "metadata": {},
     "output_type": "execute_result"
    }
   ],
   "source": [
    "d[['company','price']][d.price == d['price'].max()]"
   ]
  },
  {
   "cell_type": "markdown",
   "id": "74501d7e",
   "metadata": {},
   "source": [
    "## All Toyota Cars details"
   ]
  },
  {
   "cell_type": "code",
   "execution_count": 10,
   "id": "8f25b5e6",
   "metadata": {},
   "outputs": [
    {
     "data": {
      "text/html": [
       "<div>\n",
       "<style scoped>\n",
       "    .dataframe tbody tr th:only-of-type {\n",
       "        vertical-align: middle;\n",
       "    }\n",
       "\n",
       "    .dataframe tbody tr th {\n",
       "        vertical-align: top;\n",
       "    }\n",
       "\n",
       "    .dataframe thead th {\n",
       "        text-align: right;\n",
       "    }\n",
       "</style>\n",
       "<table border=\"1\" class=\"dataframe\">\n",
       "  <thead>\n",
       "    <tr style=\"text-align: right;\">\n",
       "      <th></th>\n",
       "      <th>index</th>\n",
       "      <th>company</th>\n",
       "      <th>body-style</th>\n",
       "      <th>wheel-base</th>\n",
       "      <th>length</th>\n",
       "      <th>engine-type</th>\n",
       "      <th>num-of-cylinders</th>\n",
       "      <th>horsepower</th>\n",
       "      <th>average-mileage</th>\n",
       "      <th>price</th>\n",
       "    </tr>\n",
       "  </thead>\n",
       "  <tbody>\n",
       "    <tr>\n",
       "      <th>48</th>\n",
       "      <td>66</td>\n",
       "      <td>toyota</td>\n",
       "      <td>hatchback</td>\n",
       "      <td>95.7</td>\n",
       "      <td>158.7</td>\n",
       "      <td>ohc</td>\n",
       "      <td>four</td>\n",
       "      <td>62</td>\n",
       "      <td>35</td>\n",
       "      <td>5348.0</td>\n",
       "    </tr>\n",
       "    <tr>\n",
       "      <th>49</th>\n",
       "      <td>67</td>\n",
       "      <td>toyota</td>\n",
       "      <td>hatchback</td>\n",
       "      <td>95.7</td>\n",
       "      <td>158.7</td>\n",
       "      <td>ohc</td>\n",
       "      <td>four</td>\n",
       "      <td>62</td>\n",
       "      <td>31</td>\n",
       "      <td>6338.0</td>\n",
       "    </tr>\n",
       "    <tr>\n",
       "      <th>50</th>\n",
       "      <td>68</td>\n",
       "      <td>toyota</td>\n",
       "      <td>hatchback</td>\n",
       "      <td>95.7</td>\n",
       "      <td>158.7</td>\n",
       "      <td>ohc</td>\n",
       "      <td>four</td>\n",
       "      <td>62</td>\n",
       "      <td>31</td>\n",
       "      <td>6488.0</td>\n",
       "    </tr>\n",
       "    <tr>\n",
       "      <th>51</th>\n",
       "      <td>69</td>\n",
       "      <td>toyota</td>\n",
       "      <td>wagon</td>\n",
       "      <td>95.7</td>\n",
       "      <td>169.7</td>\n",
       "      <td>ohc</td>\n",
       "      <td>four</td>\n",
       "      <td>62</td>\n",
       "      <td>31</td>\n",
       "      <td>6918.0</td>\n",
       "    </tr>\n",
       "    <tr>\n",
       "      <th>52</th>\n",
       "      <td>70</td>\n",
       "      <td>toyota</td>\n",
       "      <td>wagon</td>\n",
       "      <td>95.7</td>\n",
       "      <td>169.7</td>\n",
       "      <td>ohc</td>\n",
       "      <td>four</td>\n",
       "      <td>62</td>\n",
       "      <td>27</td>\n",
       "      <td>7898.0</td>\n",
       "    </tr>\n",
       "    <tr>\n",
       "      <th>53</th>\n",
       "      <td>71</td>\n",
       "      <td>toyota</td>\n",
       "      <td>wagon</td>\n",
       "      <td>95.7</td>\n",
       "      <td>169.7</td>\n",
       "      <td>ohc</td>\n",
       "      <td>four</td>\n",
       "      <td>62</td>\n",
       "      <td>27</td>\n",
       "      <td>8778.0</td>\n",
       "    </tr>\n",
       "    <tr>\n",
       "      <th>54</th>\n",
       "      <td>79</td>\n",
       "      <td>toyota</td>\n",
       "      <td>wagon</td>\n",
       "      <td>104.5</td>\n",
       "      <td>187.8</td>\n",
       "      <td>dohc</td>\n",
       "      <td>six</td>\n",
       "      <td>156</td>\n",
       "      <td>19</td>\n",
       "      <td>15750.0</td>\n",
       "    </tr>\n",
       "  </tbody>\n",
       "</table>\n",
       "</div>"
      ],
      "text/plain": [
       "    index company body-style  wheel-base  length engine-type num-of-cylinders  \\\n",
       "48     66  toyota  hatchback        95.7   158.7         ohc             four   \n",
       "49     67  toyota  hatchback        95.7   158.7         ohc             four   \n",
       "50     68  toyota  hatchback        95.7   158.7         ohc             four   \n",
       "51     69  toyota      wagon        95.7   169.7         ohc             four   \n",
       "52     70  toyota      wagon        95.7   169.7         ohc             four   \n",
       "53     71  toyota      wagon        95.7   169.7         ohc             four   \n",
       "54     79  toyota      wagon       104.5   187.8        dohc              six   \n",
       "\n",
       "    horsepower  average-mileage    price  \n",
       "48          62               35   5348.0  \n",
       "49          62               31   6338.0  \n",
       "50          62               31   6488.0  \n",
       "51          62               31   6918.0  \n",
       "52          62               27   7898.0  \n",
       "53          62               27   8778.0  \n",
       "54         156               19  15750.0  "
      ]
     },
     "execution_count": 10,
     "metadata": {},
     "output_type": "execute_result"
    }
   ],
   "source": [
    "d2=d.copy()\n",
    "d2=d2[d2['company']=='toyota']\n",
    "d2"
   ]
  },
  {
   "cell_type": "code",
   "execution_count": 22,
   "id": "d0b617fe",
   "metadata": {},
   "outputs": [
    {
     "data": {
      "text/plain": [
       "toyota           7\n",
       "bmw              6\n",
       "mazda            5\n",
       "nissan           5\n",
       "audi             4\n",
       "mercedes-benz    4\n",
       "mitsubishi       4\n",
       "volkswagen       4\n",
       "alfa-romero      3\n",
       "chevrolet        3\n",
       "honda            3\n",
       "jaguar           3\n",
       "dodge            2\n",
       "porsche          2\n",
       "volvo            2\n",
       "isuzu            1\n",
       "Name: company, dtype: int64"
      ]
     },
     "execution_count": 22,
     "metadata": {},
     "output_type": "execute_result"
    }
   ],
   "source": [
    "d['company'].value_counts()"
   ]
  },
  {
   "cell_type": "markdown",
   "id": "1d620d39",
   "metadata": {},
   "source": [
    "## Highest Price by Company"
   ]
  },
  {
   "cell_type": "code",
   "execution_count": 13,
   "id": "8c5daf89",
   "metadata": {},
   "outputs": [
    {
     "data": {
      "text/html": [
       "<div>\n",
       "<style scoped>\n",
       "    .dataframe tbody tr th:only-of-type {\n",
       "        vertical-align: middle;\n",
       "    }\n",
       "\n",
       "    .dataframe tbody tr th {\n",
       "        vertical-align: top;\n",
       "    }\n",
       "\n",
       "    .dataframe thead th {\n",
       "        text-align: right;\n",
       "    }\n",
       "</style>\n",
       "<table border=\"1\" class=\"dataframe\">\n",
       "  <thead>\n",
       "    <tr style=\"text-align: right;\">\n",
       "      <th></th>\n",
       "      <th>company</th>\n",
       "      <th>price</th>\n",
       "    </tr>\n",
       "    <tr>\n",
       "      <th>company</th>\n",
       "      <th></th>\n",
       "      <th></th>\n",
       "    </tr>\n",
       "  </thead>\n",
       "  <tbody>\n",
       "    <tr>\n",
       "      <th>alfa-romero</th>\n",
       "      <td>alfa-romero</td>\n",
       "      <td>16500.0</td>\n",
       "    </tr>\n",
       "    <tr>\n",
       "      <th>audi</th>\n",
       "      <td>audi</td>\n",
       "      <td>18920.0</td>\n",
       "    </tr>\n",
       "    <tr>\n",
       "      <th>bmw</th>\n",
       "      <td>bmw</td>\n",
       "      <td>41315.0</td>\n",
       "    </tr>\n",
       "    <tr>\n",
       "      <th>chevrolet</th>\n",
       "      <td>chevrolet</td>\n",
       "      <td>6575.0</td>\n",
       "    </tr>\n",
       "    <tr>\n",
       "      <th>dodge</th>\n",
       "      <td>dodge</td>\n",
       "      <td>6377.0</td>\n",
       "    </tr>\n",
       "    <tr>\n",
       "      <th>honda</th>\n",
       "      <td>honda</td>\n",
       "      <td>12945.0</td>\n",
       "    </tr>\n",
       "    <tr>\n",
       "      <th>isuzu</th>\n",
       "      <td>isuzu</td>\n",
       "      <td>6785.0</td>\n",
       "    </tr>\n",
       "    <tr>\n",
       "      <th>jaguar</th>\n",
       "      <td>jaguar</td>\n",
       "      <td>36000.0</td>\n",
       "    </tr>\n",
       "    <tr>\n",
       "      <th>mazda</th>\n",
       "      <td>mazda</td>\n",
       "      <td>18344.0</td>\n",
       "    </tr>\n",
       "    <tr>\n",
       "      <th>mercedes-benz</th>\n",
       "      <td>mercedes-benz</td>\n",
       "      <td>45400.0</td>\n",
       "    </tr>\n",
       "    <tr>\n",
       "      <th>mitsubishi</th>\n",
       "      <td>mitsubishi</td>\n",
       "      <td>8189.0</td>\n",
       "    </tr>\n",
       "    <tr>\n",
       "      <th>nissan</th>\n",
       "      <td>nissan</td>\n",
       "      <td>13499.0</td>\n",
       "    </tr>\n",
       "    <tr>\n",
       "      <th>porsche</th>\n",
       "      <td>porsche</td>\n",
       "      <td>37028.0</td>\n",
       "    </tr>\n",
       "    <tr>\n",
       "      <th>toyota</th>\n",
       "      <td>toyota</td>\n",
       "      <td>15750.0</td>\n",
       "    </tr>\n",
       "    <tr>\n",
       "      <th>volkswagen</th>\n",
       "      <td>volkswagen</td>\n",
       "      <td>9995.0</td>\n",
       "    </tr>\n",
       "    <tr>\n",
       "      <th>volvo</th>\n",
       "      <td>volvo</td>\n",
       "      <td>13415.0</td>\n",
       "    </tr>\n",
       "  </tbody>\n",
       "</table>\n",
       "</div>"
      ],
      "text/plain": [
       "                     company    price\n",
       "company                              \n",
       "alfa-romero      alfa-romero  16500.0\n",
       "audi                    audi  18920.0\n",
       "bmw                      bmw  41315.0\n",
       "chevrolet          chevrolet   6575.0\n",
       "dodge                  dodge   6377.0\n",
       "honda                  honda  12945.0\n",
       "isuzu                  isuzu   6785.0\n",
       "jaguar                jaguar  36000.0\n",
       "mazda                  mazda  18344.0\n",
       "mercedes-benz  mercedes-benz  45400.0\n",
       "mitsubishi        mitsubishi   8189.0\n",
       "nissan                nissan  13499.0\n",
       "porsche              porsche  37028.0\n",
       "toyota                toyota  15750.0\n",
       "volkswagen        volkswagen   9995.0\n",
       "volvo                  volvo  13415.0"
      ]
     },
     "execution_count": 13,
     "metadata": {},
     "output_type": "execute_result"
    }
   ],
   "source": [
    "car_manufactures = d.groupby('company')\n",
    "highest_price_by_company = car_manufactures['company','price'].max()\n",
    "highest_price_by_company"
   ]
  },
  {
   "cell_type": "markdown",
   "id": "7925da1b",
   "metadata": {},
   "source": [
    "## Average Milage of each car making Company"
   ]
  },
  {
   "cell_type": "code",
   "execution_count": 14,
   "id": "c8ac43e7",
   "metadata": {},
   "outputs": [
    {
     "data": {
      "text/html": [
       "<div>\n",
       "<style scoped>\n",
       "    .dataframe tbody tr th:only-of-type {\n",
       "        vertical-align: middle;\n",
       "    }\n",
       "\n",
       "    .dataframe tbody tr th {\n",
       "        vertical-align: top;\n",
       "    }\n",
       "\n",
       "    .dataframe thead th {\n",
       "        text-align: right;\n",
       "    }\n",
       "</style>\n",
       "<table border=\"1\" class=\"dataframe\">\n",
       "  <thead>\n",
       "    <tr style=\"text-align: right;\">\n",
       "      <th></th>\n",
       "      <th>average-mileage</th>\n",
       "    </tr>\n",
       "    <tr>\n",
       "      <th>company</th>\n",
       "      <th></th>\n",
       "    </tr>\n",
       "  </thead>\n",
       "  <tbody>\n",
       "    <tr>\n",
       "      <th>alfa-romero</th>\n",
       "      <td>20.333333</td>\n",
       "    </tr>\n",
       "    <tr>\n",
       "      <th>audi</th>\n",
       "      <td>20.000000</td>\n",
       "    </tr>\n",
       "    <tr>\n",
       "      <th>bmw</th>\n",
       "      <td>19.000000</td>\n",
       "    </tr>\n",
       "    <tr>\n",
       "      <th>chevrolet</th>\n",
       "      <td>41.000000</td>\n",
       "    </tr>\n",
       "    <tr>\n",
       "      <th>dodge</th>\n",
       "      <td>31.000000</td>\n",
       "    </tr>\n",
       "    <tr>\n",
       "      <th>honda</th>\n",
       "      <td>26.333333</td>\n",
       "    </tr>\n",
       "    <tr>\n",
       "      <th>isuzu</th>\n",
       "      <td>33.333333</td>\n",
       "    </tr>\n",
       "    <tr>\n",
       "      <th>jaguar</th>\n",
       "      <td>14.333333</td>\n",
       "    </tr>\n",
       "    <tr>\n",
       "      <th>mazda</th>\n",
       "      <td>28.000000</td>\n",
       "    </tr>\n",
       "    <tr>\n",
       "      <th>mercedes-benz</th>\n",
       "      <td>18.000000</td>\n",
       "    </tr>\n",
       "    <tr>\n",
       "      <th>mitsubishi</th>\n",
       "      <td>29.500000</td>\n",
       "    </tr>\n",
       "    <tr>\n",
       "      <th>nissan</th>\n",
       "      <td>31.400000</td>\n",
       "    </tr>\n",
       "    <tr>\n",
       "      <th>porsche</th>\n",
       "      <td>17.000000</td>\n",
       "    </tr>\n",
       "    <tr>\n",
       "      <th>toyota</th>\n",
       "      <td>28.714286</td>\n",
       "    </tr>\n",
       "    <tr>\n",
       "      <th>volkswagen</th>\n",
       "      <td>31.750000</td>\n",
       "    </tr>\n",
       "    <tr>\n",
       "      <th>volvo</th>\n",
       "      <td>23.000000</td>\n",
       "    </tr>\n",
       "  </tbody>\n",
       "</table>\n",
       "</div>"
      ],
      "text/plain": [
       "               average-mileage\n",
       "company                       \n",
       "alfa-romero          20.333333\n",
       "audi                 20.000000\n",
       "bmw                  19.000000\n",
       "chevrolet            41.000000\n",
       "dodge                31.000000\n",
       "honda                26.333333\n",
       "isuzu                33.333333\n",
       "jaguar               14.333333\n",
       "mazda                28.000000\n",
       "mercedes-benz        18.000000\n",
       "mitsubishi           29.500000\n",
       "nissan               31.400000\n",
       "porsche              17.000000\n",
       "toyota               28.714286\n",
       "volkswagen           31.750000\n",
       "volvo                23.000000"
      ]
     },
     "execution_count": 14,
     "metadata": {},
     "output_type": "execute_result"
    }
   ],
   "source": [
    "avg_mileage = car_manufactures['company','average-mileage'].mean()\n",
    "avg_mileage"
   ]
  },
  {
   "cell_type": "markdown",
   "id": "a92d1ee0",
   "metadata": {},
   "source": [
    "## Sorting all Cars by Price column"
   ]
  },
  {
   "cell_type": "code",
   "execution_count": 20,
   "id": "34a80190",
   "metadata": {},
   "outputs": [
    {
     "data": {
      "text/html": [
       "<div>\n",
       "<style scoped>\n",
       "    .dataframe tbody tr th:only-of-type {\n",
       "        vertical-align: middle;\n",
       "    }\n",
       "\n",
       "    .dataframe tbody tr th {\n",
       "        vertical-align: top;\n",
       "    }\n",
       "\n",
       "    .dataframe thead th {\n",
       "        text-align: right;\n",
       "    }\n",
       "</style>\n",
       "<table border=\"1\" class=\"dataframe\">\n",
       "  <thead>\n",
       "    <tr style=\"text-align: right;\">\n",
       "      <th></th>\n",
       "      <th>company</th>\n",
       "      <th>body-style</th>\n",
       "      <th>wheel-base</th>\n",
       "      <th>length</th>\n",
       "      <th>engine-type</th>\n",
       "      <th>num-of-cylinders</th>\n",
       "      <th>horsepower</th>\n",
       "      <th>average-mileage</th>\n",
       "      <th>price</th>\n",
       "    </tr>\n",
       "  </thead>\n",
       "  <tbody>\n",
       "    <tr>\n",
       "      <th>35</th>\n",
       "      <td>mercedes-benz</td>\n",
       "      <td>hardtop</td>\n",
       "      <td>112.0</td>\n",
       "      <td>199.2</td>\n",
       "      <td>ohcv</td>\n",
       "      <td>eight</td>\n",
       "      <td>184</td>\n",
       "      <td>14</td>\n",
       "      <td>45400.0</td>\n",
       "    </tr>\n",
       "    <tr>\n",
       "      <th>11</th>\n",
       "      <td>bmw</td>\n",
       "      <td>sedan</td>\n",
       "      <td>103.5</td>\n",
       "      <td>193.8</td>\n",
       "      <td>ohc</td>\n",
       "      <td>six</td>\n",
       "      <td>182</td>\n",
       "      <td>16</td>\n",
       "      <td>41315.0</td>\n",
       "    </tr>\n",
       "    <tr>\n",
       "      <th>34</th>\n",
       "      <td>mercedes-benz</td>\n",
       "      <td>sedan</td>\n",
       "      <td>120.9</td>\n",
       "      <td>208.1</td>\n",
       "      <td>ohcv</td>\n",
       "      <td>eight</td>\n",
       "      <td>184</td>\n",
       "      <td>14</td>\n",
       "      <td>40960.0</td>\n",
       "    </tr>\n",
       "    <tr>\n",
       "      <th>46</th>\n",
       "      <td>porsche</td>\n",
       "      <td>convertible</td>\n",
       "      <td>89.5</td>\n",
       "      <td>168.9</td>\n",
       "      <td>ohcf</td>\n",
       "      <td>six</td>\n",
       "      <td>207</td>\n",
       "      <td>17</td>\n",
       "      <td>37028.0</td>\n",
       "    </tr>\n",
       "    <tr>\n",
       "      <th>12</th>\n",
       "      <td>bmw</td>\n",
       "      <td>sedan</td>\n",
       "      <td>110.0</td>\n",
       "      <td>197.0</td>\n",
       "      <td>ohc</td>\n",
       "      <td>six</td>\n",
       "      <td>182</td>\n",
       "      <td>15</td>\n",
       "      <td>36880.0</td>\n",
       "    </tr>\n",
       "    <tr>\n",
       "      <th>...</th>\n",
       "      <td>...</td>\n",
       "      <td>...</td>\n",
       "      <td>...</td>\n",
       "      <td>...</td>\n",
       "      <td>...</td>\n",
       "      <td>...</td>\n",
       "      <td>...</td>\n",
       "      <td>...</td>\n",
       "      <td>...</td>\n",
       "    </tr>\n",
       "    <tr>\n",
       "      <th>27</th>\n",
       "      <td>mazda</td>\n",
       "      <td>hatchback</td>\n",
       "      <td>93.1</td>\n",
       "      <td>159.1</td>\n",
       "      <td>ohc</td>\n",
       "      <td>four</td>\n",
       "      <td>68</td>\n",
       "      <td>30</td>\n",
       "      <td>5195.0</td>\n",
       "    </tr>\n",
       "    <tr>\n",
       "      <th>13</th>\n",
       "      <td>chevrolet</td>\n",
       "      <td>hatchback</td>\n",
       "      <td>88.4</td>\n",
       "      <td>141.1</td>\n",
       "      <td>l</td>\n",
       "      <td>three</td>\n",
       "      <td>48</td>\n",
       "      <td>47</td>\n",
       "      <td>5151.0</td>\n",
       "    </tr>\n",
       "    <tr>\n",
       "      <th>22</th>\n",
       "      <td>isuzu</td>\n",
       "      <td>sedan</td>\n",
       "      <td>94.5</td>\n",
       "      <td>155.9</td>\n",
       "      <td>ohc</td>\n",
       "      <td>four</td>\n",
       "      <td>70</td>\n",
       "      <td>38</td>\n",
       "      <td>NaN</td>\n",
       "    </tr>\n",
       "    <tr>\n",
       "      <th>23</th>\n",
       "      <td>isuzu</td>\n",
       "      <td>sedan</td>\n",
       "      <td>94.5</td>\n",
       "      <td>155.9</td>\n",
       "      <td>ohc</td>\n",
       "      <td>four</td>\n",
       "      <td>70</td>\n",
       "      <td>38</td>\n",
       "      <td>NaN</td>\n",
       "    </tr>\n",
       "    <tr>\n",
       "      <th>47</th>\n",
       "      <td>porsche</td>\n",
       "      <td>hatchback</td>\n",
       "      <td>98.4</td>\n",
       "      <td>175.7</td>\n",
       "      <td>dohcv</td>\n",
       "      <td>eight</td>\n",
       "      <td>288</td>\n",
       "      <td>17</td>\n",
       "      <td>NaN</td>\n",
       "    </tr>\n",
       "  </tbody>\n",
       "</table>\n",
       "<p>61 rows × 9 columns</p>\n",
       "</div>"
      ],
      "text/plain": [
       "          company   body-style  wheel-base  length engine-type  \\\n",
       "35  mercedes-benz      hardtop       112.0   199.2        ohcv   \n",
       "11            bmw        sedan       103.5   193.8         ohc   \n",
       "34  mercedes-benz        sedan       120.9   208.1        ohcv   \n",
       "46        porsche  convertible        89.5   168.9        ohcf   \n",
       "12            bmw        sedan       110.0   197.0         ohc   \n",
       "..            ...          ...         ...     ...         ...   \n",
       "27          mazda    hatchback        93.1   159.1         ohc   \n",
       "13      chevrolet    hatchback        88.4   141.1           l   \n",
       "22          isuzu        sedan        94.5   155.9         ohc   \n",
       "23          isuzu        sedan        94.5   155.9         ohc   \n",
       "47        porsche    hatchback        98.4   175.7       dohcv   \n",
       "\n",
       "   num-of-cylinders  horsepower  average-mileage    price  \n",
       "35            eight         184               14  45400.0  \n",
       "11              six         182               16  41315.0  \n",
       "34            eight         184               14  40960.0  \n",
       "46              six         207               17  37028.0  \n",
       "12              six         182               15  36880.0  \n",
       "..              ...         ...              ...      ...  \n",
       "27             four          68               30   5195.0  \n",
       "13            three          48               47   5151.0  \n",
       "22             four          70               38      NaN  \n",
       "23             four          70               38      NaN  \n",
       "47            eight         288               17      NaN  \n",
       "\n",
       "[61 rows x 9 columns]"
      ]
     },
     "execution_count": 20,
     "metadata": {},
     "output_type": "execute_result"
    }
   ],
   "source": [
    "d4=d.copy()\n",
    "d4=d.sort_values(by=[\"price\"],ascending=False)\n",
    "d4"
   ]
  },
  {
   "cell_type": "markdown",
   "id": "9f8dc51d",
   "metadata": {},
   "source": [
    "## Piechart showing no.of cars in each Company"
   ]
  },
  {
   "cell_type": "code",
   "execution_count": 38,
   "id": "20a730bd",
   "metadata": {},
   "outputs": [
    {
     "data": {
      "image/png": "[encoded data removed]",
      "text/plain": [
       "<Figure size 1440x576 with 1 Axes>"
      ]
     },
     "metadata": {},
     "output_type": "display_data"
    }
   ],
   "source": [
    "plt.figure(figsize = (20,8))\n",
    "plt.title('company',fontsize=20)\n",
    "d['company'].value_counts().plot.pie(autopct='%1.1f%%',shadow=True)\n",
    "plt.show()"
   ]
  },
  {
   "cell_type": "markdown",
   "id": "50d50cc3",
   "metadata": {},
   "source": [
    "## Price range of Cars based on the Company"
   ]
  },
  {
   "cell_type": "code",
   "execution_count": 31,
   "id": "9986587d",
   "metadata": {},
   "outputs": [
    {
     "data": {
      "image/png": "[encoded data removed]",
      "text/plain": [
       "<Figure size 864x360 with 1 Axes>"
      ]
     },
     "metadata": {
      "needs_background": "light"
     },
     "output_type": "display_data"
    }
   ],
   "source": [
    "plt.figure(figsize = (12,5))\n",
    "\n",
    "sns.boxplot(x='company',y='price',data=d)\n",
    "plt.xticks(rotation = 90)\n",
    "plt.show()"
   ]
  },
  {
   "cell_type": "code",
   "execution_count": 29,
   "id": "0070cf46",
   "metadata": {},
   "outputs": [
    {
     "data": {
      "text/plain": [
       "toyota           7\n",
       "bmw              6\n",
       "mazda            5\n",
       "nissan           5\n",
       "audi             4\n",
       "mercedes-benz    4\n",
       "mitsubishi       4\n",
       "volkswagen       4\n",
       "alfa-romero      3\n",
       "chevrolet        3\n",
       "honda            3\n",
       "isuzu            3\n",
       "jaguar           3\n",
       "porsche          3\n",
       "dodge            2\n",
       "volvo            2\n",
       "Name: company, dtype: int64"
      ]
     },
     "execution_count": 29,
     "metadata": {},
     "output_type": "execute_result"
    }
   ],
   "source": [
    "d['company'].value_counts()"
   ]
  },
  {
   "cell_type": "markdown",
   "id": "6a464130",
   "metadata": {},
   "source": [
    "## Price range with Average Mileage"
   ]
  },
  {
   "cell_type": "code",
   "execution_count": 26,
   "id": "9a14f7f2",
   "metadata": {},
   "outputs": [
    {
     "data": {
      "image/png": "[encoded data removed]",
      "text/plain": [
       "<Figure size 1440x1296 with 1 Axes>"
      ]
     },
     "metadata": {
      "needs_background": "light"
     },
     "output_type": "display_data"
    }
   ],
   "source": [
    "plt.figure(figsize=(20,18))\n",
    "plt.title('Price range with Average Mileage')\n",
    "sns.barplot(x='price',y='average-mileage',data=d,hue='company',order=d['price'].value_counts().index,palette='coolwarm_r')\n",
    "plt.xlabel('price',fontsize=15)\n",
    "plt.xticks(rotation = 90)\n",
    "plt.show()"
   ]
  },
  {
   "cell_type": "markdown",
   "id": "cb5a8f01",
   "metadata": {},
   "source": [
    "## Horsepower and Average-Mileage in each Company"
   ]
  },
  {
   "cell_type": "code",
   "execution_count": 30,
   "id": "b101e0dc",
   "metadata": {},
   "outputs": [
    {
     "data": {
      "image/png": "[encoded data removed]",
      "text/plain": [
       "<Figure size 576x360 with 1 Axes>"
      ]
     },
     "metadata": {
      "needs_background": "light"
     },
     "output_type": "display_data"
    }
   ],
   "source": [
    "d.groupby('company')[['horsepower','average-mileage']].sum().plot.bar(color=['red','blue'],figsize=(8,5))\n",
    "plt.ylabel('Horsepower and Average-Mileage')\n",
    "plt.show()"
   ]
  },
  {
   "cell_type": "markdown",
   "id": "2ee2effc",
   "metadata": {},
   "source": [
    "## How does Number of Cylinders affect Price?"
   ]
  },
  {
   "cell_type": "code",
   "execution_count": 26,
   "id": "5648609c",
   "metadata": {},
   "outputs": [
    {
     "data": {
      "image/png": "[encoded data removed]",
      "text/plain": [
       "<Figure size 864x360 with 1 Axes>"
      ]
     },
     "metadata": {
      "needs_background": "light"
     },
     "output_type": "display_data"
    }
   ],
   "source": [
    "plt.figure(figsize = (12,5))\n",
    "sns.boxplot(x='price',y='num-of-cylinders',data=d)\n",
    "plt.xticks(rotation = 90)\n",
    "plt.show()"
   ]
  },
  {
   "cell_type": "markdown",
   "id": "18b46e37",
   "metadata": {},
   "source": [
    "from the boxplot the most variation found in cars with 6 cylindes with price ranging from 14000 to 43000."
   ]
  },
  {
   "cell_type": "markdown",
   "id": "58139bb0",
   "metadata": {},
   "source": [
    "## How does Engine type affect price?"
   ]
  },
  {
   "cell_type": "code",
   "execution_count": 34,
   "id": "c923c30c",
   "metadata": {},
   "outputs": [
    {
     "data": {
      "image/png": "[encoded data removed]",
      "text/plain": [
       "<Figure size 864x360 with 1 Axes>"
      ]
     },
     "metadata": {
      "needs_background": "light"
     },
     "output_type": "display_data"
    }
   ],
   "source": [
    "plt.figure(figsize = (12,5))\n",
    "sns.boxplot(x='engine-type',y='price',data=d)\n",
    "plt.xticks(rotation = 90)\n",
    "plt.show()"
   ]
  },
  {
   "cell_type": "markdown",
   "id": "ce350460",
   "metadata": {},
   "source": [
    "From the boxplot the most variation in engine type is found in'ohcv' with price ranging from 14000 to 45000."
   ]
  },
  {
   "cell_type": "code",
   "execution_count": 33,
   "id": "132bd225",
   "metadata": {},
   "outputs": [
    {
     "data": {
      "text/plain": [
       "ohc      46\n",
       "dohc      5\n",
       "ohcv      5\n",
       "ohcf      2\n",
       "l         1\n",
       "rotor     1\n",
       "dohcv     1\n",
       "Name: engine-type, dtype: int64"
      ]
     },
     "execution_count": 33,
     "metadata": {},
     "output_type": "execute_result"
    }
   ],
   "source": [
    "d['engine-type'].value_counts()"
   ]
  },
  {
   "cell_type": "markdown",
   "id": "c0709846",
   "metadata": {},
   "source": [
    "most of Cars (almost 75%) use 'ohc' engine."
   ]
  },
  {
   "cell_type": "markdown",
   "id": "6211d18d",
   "metadata": {},
   "source": [
    "## how does Body style affect price?"
   ]
  },
  {
   "cell_type": "code",
   "execution_count": 27,
   "id": "bd34afee",
   "metadata": {},
   "outputs": [
    {
     "data": {
      "image/png": "[encoded data removed]",
      "text/plain": [
       "<Figure size 864x360 with 1 Axes>"
      ]
     },
     "metadata": {
      "needs_background": "light"
     },
     "output_type": "display_data"
    }
   ],
   "source": [
    "plt.figure(figsize = (12,5))\n",
    "sns.boxplot(x='price',y='body-style',data=d)\n",
    "plt.xticks(rotation = 90)\n",
    "plt.show()"
   ]
  },
  {
   "cell_type": "code",
   "execution_count": 32,
   "id": "2924efed",
   "metadata": {},
   "outputs": [
    {
     "data": {
      "text/plain": [
       "sedan          32\n",
       "hatchback      15\n",
       "wagon           9\n",
       "convertible     3\n",
       "hardtop         2\n",
       "Name: body-style, dtype: int64"
      ]
     },
     "execution_count": 32,
     "metadata": {},
     "output_type": "execute_result"
    }
   ],
   "source": [
    "d['body-style'].value_counts()"
   ]
  },
  {
   "cell_type": "markdown",
   "id": "01dfbea8",
   "metadata": {},
   "source": [
    "most preffered body style is sedan followed by hatchback."
   ]
  },
  {
   "cell_type": "markdown",
   "id": "1b398029",
   "metadata": {},
   "source": [
    "## Effect of Horsepower on Price?"
   ]
  },
  {
   "cell_type": "code",
   "execution_count": 36,
   "id": "ea66c9a5",
   "metadata": {},
   "outputs": [
    {
     "data": {
      "image/png": "[encoded data removed]",
      "text/plain": [
       "<Figure size 576x360 with 1 Axes>"
      ]
     },
     "metadata": {
      "needs_background": "light"
     },
     "output_type": "display_data"
    }
   ],
   "source": [
    "plt.figure(figsize=(8, 5))\n",
    "plt.scatter(x='horsepower',y='price',data=d)\n",
    "plt.xlabel('Horsepower')\n",
    "plt.ylabel('Price')\n",
    "plt.show()"
   ]
  },
  {
   "cell_type": "markdown",
   "id": "5de6586e",
   "metadata": {},
   "source": [
    "The Horsepower of Cars lies between 50 to 150 having Price between 5000-30000"
   ]
  },
  {
   "cell_type": "markdown",
   "id": "38c000f3",
   "metadata": {},
   "source": [
    "## Effect of Wheel-base on Price?"
   ]
  },
  {
   "cell_type": "code",
   "execution_count": 37,
   "id": "dbda75a9",
   "metadata": {},
   "outputs": [
    {
     "data": {
      "image/png": "[encoded data removed]",
      "text/plain": [
       "<Figure size 576x360 with 1 Axes>"
      ]
     },
     "metadata": {
      "needs_background": "light"
     },
     "output_type": "display_data"
    }
   ],
   "source": [
    "plt.figure(figsize=(8, 5))\n",
    "plt.scatter(x='wheel-base',y='price',data=d)\n",
    "plt.xlabel('wheel-base')\n",
    "plt.ylabel('Price')\n",
    "plt.show()"
   ]
  },
  {
   "cell_type": "markdown",
   "id": "242158a8",
   "metadata": {},
   "source": [
    "The Wheel-base of Cars lies between 92 to 107 having Price between 5000-22000"
   ]
  },
  {
   "cell_type": "markdown",
   "id": "3eea1572",
   "metadata": {},
   "source": [
    "The Price of Cars increases with an increase in Wheel-base."
   ]
  },
  {
   "cell_type": "markdown",
   "id": "5f581dee",
   "metadata": {},
   "source": [
    "## Effect of Length on Price?"
   ]
  },
  {
   "cell_type": "code",
   "execution_count": 38,
   "id": "3bce8803",
   "metadata": {},
   "outputs": [
    {
     "data": {
      "image/png": "[encoded data removed]",
      "text/plain": [
       "<Figure size 576x360 with 1 Axes>"
      ]
     },
     "metadata": {
      "needs_background": "light"
     },
     "output_type": "display_data"
    }
   ],
   "source": [
    "plt.figure(figsize=(8, 5))\n",
    "plt.scatter(x='length',y='price',data=d)\n",
    "plt.xlabel('Length')\n",
    "plt.ylabel('Price')\n",
    "plt.show()"
   ]
  },
  {
   "cell_type": "markdown",
   "id": "40faf030",
   "metadata": {},
   "source": [
    "The Price of Cars increases with an increase in Length."
   ]
  },
  {
   "cell_type": "markdown",
   "id": "f2e30b91",
   "metadata": {},
   "source": [
    "## checking correlation between different variables"
   ]
  },
  {
   "cell_type": "code",
   "execution_count": 33,
   "id": "9e3bb379",
   "metadata": {},
   "outputs": [
    {
     "data": {
      "image/png": "[encoded data removed]",
      "text/plain": [
       "<Figure size 864x576 with 2 Axes>"
      ]
     },
     "metadata": {
      "needs_background": "light"
     },
     "output_type": "display_data"
    }
   ],
   "source": [
    "plt.figure(figsize = (12,8))\n",
    "sns.heatmap(d.corr(),annot = True, cmap='coolwarm_r',center=0)\n",
    "plt.show()"
   ]
  },
  {
   "cell_type": "markdown",
   "id": "2b73d8cd",
   "metadata": {},
   "source": [
    "## Pairplot"
   ]
  },
  {
   "cell_type": "code",
   "execution_count": 15,
   "id": "c3c75a0a",
   "metadata": {},
   "outputs": [
    {
     "data": {
      "image/png": "[encoded data removed]",
      "text/plain": [
       "<Figure size 968x900 with 30 Axes>"
      ]
     },
     "metadata": {
      "needs_background": "light"
     },
     "output_type": "display_data"
    }
   ],
   "source": [
    "sns.pairplot(d, hue=\"engine-type\", diag_kind=\"hist\")\n",
    "plt.show()"
   ]
  },
  {
   "cell_type": "markdown",
   "id": "4e44d07a",
   "metadata": {},
   "source": [
    "## Inference\n",
    "\n",
    "* Automobile Price increase as increase in wheel-base, length, horsepower.\n",
    "* As horsepower increases the wheel-base also increases.\n",
    "* As horsepower increases the length of the car increases.\n",
    "* wheel-base decreases with the increase in Average-Mileage.\n",
    "* Average-Mileage is negatively corelated with Price as increase horsepower reduces the Mileage.\n",
    "\n"
   ]
  },
  {
   "cell_type": "code",
   "execution_count": null,
   "id": "5bd0f2b0",
   "metadata": {},
   "outputs": [],
   "source": []
  },
  {
   "cell_type": "code",
   "execution_count": null,
   "id": "13e0ffe0",
   "metadata": {},
   "outputs": [],
   "source": []
  }
 ],
 "metadata": {
  "kernelspec": {
   "display_name": "Python 3 (ipykernel)",
   "language": "python",
   "name": "python3"
  },
  "language_info": {
   "codemirror_mode": {
    "name": "ipython",
    "version": 3
   },
   "file_extension": ".py",
   "mimetype": "text/x-python",
   "name": "python",
   "nbconvert_exporter": "python",
   "pygments_lexer": "ipython3",
   "version": "3.9.7"
  }
 },
 "nbformat": 4,
 "nbformat_minor": 5
}
