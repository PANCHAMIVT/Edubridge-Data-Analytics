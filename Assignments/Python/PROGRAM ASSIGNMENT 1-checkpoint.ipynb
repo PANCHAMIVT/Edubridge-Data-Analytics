{
 "cells": [
  {
   "cell_type": "code",
   "execution_count": 2,
   "id": "934d0cde",
   "metadata": {},
   "outputs": [
    {
     "name": "stdout",
     "output_type": "stream",
     "text": [
      "enter first number: 12\n",
      "enter second number: 12\n",
      "sum: 24\n"
     ]
    }
   ],
   "source": [
    "#Program to addition of two numbers\n",
    "a = int(input(\"enter first number: \"))\n",
    "b = int(input(\"enter second number: \"))\n",
    "sum = a + b\n",
    "print(\"sum:\", sum)"
   ]
  },
  {
   "cell_type": "code",
   "execution_count": 7,
   "id": "9cc187b6",
   "metadata": {},
   "outputs": [
    {
     "name": "stdout",
     "output_type": "stream",
     "text": [
      "enter first number: 25\n",
      "enter second number: 10\n",
      "difference: 15\n"
     ]
    }
   ],
   "source": [
    "#Program to substraction of two numbers\n",
    "a = int(input(\"enter first number: \"))\n",
    "b = int(input(\"enter second number: \"))\n",
    "difference = a - b\n",
    "print(\"difference:\", difference)"
   ]
  },
  {
   "cell_type": "code",
   "execution_count": 9,
   "id": "1a2d3764",
   "metadata": {},
   "outputs": [
    {
     "name": "stdout",
     "output_type": "stream",
     "text": [
      "enter first number: 20\n",
      "enter second number: 5\n",
      "product: 100\n"
     ]
    }
   ],
   "source": [
    "#multipication of two numbers\n",
    "a = int(input(\"enter first number: \"))\n",
    "b = int(input(\"enter second number: \"))\n",
    "product = a * b\n",
    "print(\"product:\", product)"
   ]
  },
  {
   "cell_type": "code",
   "execution_count": 10,
   "id": "be020661",
   "metadata": {},
   "outputs": [
    {
     "name": "stdout",
     "output_type": "stream",
     "text": [
      "enter first number: 100\n",
      "enter second number: 5\n",
      "division: 20.0\n"
     ]
    }
   ],
   "source": [
    "#Divition of two numbers\n",
    "a = int(input(\"enter first number: \"))\n",
    "b = int(input(\"enter second number: \"))\n",
    "division = a / b\n",
    "print(\"division:\", division)"
   ]
  },
  {
   "cell_type": "code",
   "execution_count": 11,
   "id": "320cac90",
   "metadata": {},
   "outputs": [
    {
     "name": "stdout",
     "output_type": "stream",
     "text": [
      "enter first number: 9\n",
      "enter second number: 10\n",
      "modulus: 9\n"
     ]
    }
   ],
   "source": [
    "#modulus of number\n",
    "a = int(input(\"enter first number: \"))\n",
    "b = int(input(\"enter second number: \"))\n",
    "modulus = a % b\n",
    "print(\"modulus:\", modulus)"
   ]
  },
  {
   "cell_type": "code",
   "execution_count": 12,
   "id": "b790c7fe",
   "metadata": {},
   "outputs": [
    {
     "name": "stdout",
     "output_type": "stream",
     "text": [
      "Enter the principle amount:1500\n",
      "Enter the time(years):5\n",
      "Enter the rate:9\n",
      "The simple interest is: 675.0\n"
     ]
    }
   ],
   "source": [
    "#program to find simple interest\n",
    "principle=int(input(\"Enter the principle amount:\"))\n",
    "time=int(input(\"Enter the time(years):\"))\n",
    "rate=float(input(\"Enter the rate:\"))\n",
    "Simple_interest=(principle*time*rate)/100\n",
    "print(\"The simple interest is:\",Simple_interest)"
   ]
  },
  {
   "cell_type": "code",
   "execution_count": 13,
   "id": "a1b7950d",
   "metadata": {},
   "outputs": [
    {
     "name": "stdout",
     "output_type": "stream",
     "text": [
      "Please enter value for P: 15\n",
      "Please enter value for Q: 52\n",
      "The Value of P after swapping:  52\n",
      "The Value of Q after swapping:  15\n"
     ]
    }
   ],
   "source": [
    "#program to swap two numbers with using third variable\n",
    "P = int( input(\"Please enter value for P: \"))  \n",
    "Q = int( input(\"Please enter value for Q: \"))   \n",
    "P, Q = Q, P   \n",
    "print (\"The Value of P after swapping: \", P)  \n",
    "print (\"The Value of Q after swapping: \", Q)"
   ]
  },
  {
   "cell_type": "code",
   "execution_count": 16,
   "id": "58fb493b",
   "metadata": {},
   "outputs": [
    {
     "name": "stdout",
     "output_type": "stream",
     "text": [
      "Enter Number of Subjects: 5\n",
      "Enter Marks Obtained in 5 Subjects: 100\n",
      "200\n",
      "190\n",
      "185\n",
      "190\n",
      "Enter Maximum Mark: 200\n",
      "Average Mark = 173.0\n",
      "Percentage Mark = 86.5%\n"
     ]
    }
   ],
   "source": [
    "#program to find average of student marks\n",
    "mark = []\n",
    "totMark = 0\n",
    "print(end=\"Enter Number of Subjects: \")\n",
    "totSub = int(input())\n",
    "\n",
    "print(end=\"Enter Marks Obtained in \" + str(totSub) + \" Subjects: \")\n",
    "for i in range(totSub):\n",
    "    mark.insert(i, int(input()))\n",
    "\t\n",
    "print(end=\"Enter Maximum Mark: \")\n",
    "maxMark = int(input())\n",
    "\n",
    "for i in range(totSub):\n",
    "    totMark = totMark + mark[i]\n",
    "avg = totMark/totSub\n",
    "perc = (totMark/(totSub*maxMark))*100\n",
    "\n",
    "print(\"Average Mark = \" + str(avg))\n",
    "print(\"Percentage Mark = \" + str(perc) + \"%\")"
   ]
  },
  {
   "cell_type": "code",
   "execution_count": null,
   "id": "fc40f291",
   "metadata": {},
   "outputs": [],
   "source": []
  }
 ],
 "metadata": {
  "kernelspec": {
   "display_name": "Python 3 (ipykernel)",
   "language": "python",
   "name": "python3"
  },
  "language_info": {
   "codemirror_mode": {
    "name": "ipython",
    "version": 3
   },
   "file_extension": ".py",
   "mimetype": "text/x-python",
   "name": "python",
   "nbconvert_exporter": "python",
   "pygments_lexer": "ipython3",
   "version": "3.9.7"
  }
 },
 "nbformat": 4,
 "nbformat_minor": 5
}
