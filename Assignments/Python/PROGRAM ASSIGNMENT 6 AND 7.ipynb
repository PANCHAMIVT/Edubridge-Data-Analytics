{
 "cells": [
  {
   "cell_type": "markdown",
   "id": "f648320c",
   "metadata": {},
   "source": [
    "# ASSIGNMENT 6"
   ]
  },
  {
   "cell_type": "markdown",
   "id": "fcb705f6",
   "metadata": {},
   "source": [
    "## SORT A DICTIONARY BY VALUE"
   ]
  },
  {
   "cell_type": "code",
   "execution_count": 5,
   "id": "0d42767c",
   "metadata": {},
   "outputs": [
    {
     "name": "stdout",
     "output_type": "stream",
     "text": [
      "Sorted Dictionary: \n",
      "{'ANALYSIS': 2, 'SCIENCE': 5, 'ANALYTICS': 9, 'DATA': 11, 'ENGINEER': 12}\n"
     ]
    }
   ],
   "source": [
    "import operator\n",
    "\n",
    "word_dict = { 'DATA': 11, 'ANALYTICS': 9, 'SCIENCE': 5, 'ENGINEER': 12, 'ANALYSIS': 2 }\n",
    "\n",
    "sorted_dict = dict( sorted(word_dict.items(),\n",
    "                           key=operator.itemgetter(1)))\n",
    "\n",
    "print('Sorted Dictionary: ')\n",
    "\n",
    "print(sorted_dict)"
   ]
  },
  {
   "cell_type": "markdown",
   "id": "09fb6868",
   "metadata": {},
   "source": [
    "## ADD A KEY TO A DICTIONARY"
   ]
  },
  {
   "cell_type": "code",
   "execution_count": 7,
   "id": "efce5929",
   "metadata": {},
   "outputs": [
    {
     "name": "stdout",
     "output_type": "stream",
     "text": [
      "{'ANALYSIS': 2, 'SCIENCE': 5, 'ANALYTICS': 9, 'DATA': 11, 'ENGINEER': 12}\n",
      "{'ANALYSIS': 2, 'SCIENCE': 5, 'ANALYTICS': 9, 'DATA': 11, 'ENGINEER': 12, 'c': 3}\n"
     ]
    }
   ],
   "source": [
    "\n",
    "new_dict = {**sorted_dict, **{'c': 3}}\n",
    "  \n",
    "print(sorted_dict)\n",
    "print(new_dict)"
   ]
  },
  {
   "cell_type": "markdown",
   "id": "00f33ceb",
   "metadata": {},
   "source": [
    "# ASSIGNMENT 7"
   ]
  },
  {
   "cell_type": "markdown",
   "id": "4a2f958a",
   "metadata": {},
   "source": [
    "## function to find square of a number"
   ]
  },
  {
   "cell_type": "code",
   "execution_count": 8,
   "id": "6dd5a29c",
   "metadata": {},
   "outputs": [
    {
     "name": "stdout",
     "output_type": "stream",
     "text": [
      " Please Enter any numeric Value : 15\n",
      "The Square of a Given Number 15.0  = 225.0\n"
     ]
    }
   ],
   "source": [
    "def square(num):\n",
    "    return num * num\n",
    "\n",
    "number = float(input(\" Please Enter any numeric Value : \"))\n",
    "\n",
    "sqre = square(number)\n",
    "\n",
    "print(\"The Square of a Given Number {0}  = {1}\".format(number, sqre))"
   ]
  },
  {
   "cell_type": "markdown",
   "id": "174470ab",
   "metadata": {},
   "source": [
    "## odd or even test"
   ]
  },
  {
   "cell_type": "code",
   "execution_count": 13,
   "id": "d28e14eb",
   "metadata": {},
   "outputs": [
    {
     "name": "stdout",
     "output_type": "stream",
     "text": [
      "Enter a number for check odd or even: 123\n",
      "123  is an odd\n"
     ]
    }
   ],
   "source": [
    "num=int(input(\"Enter a number for check odd or even: \"))\n",
    "\n",
    "def find_Evenodd(num):\n",
    "    \n",
    "    if(num%2==0):\n",
    "        print(num,\" Is an even\")\n",
    "    else:\n",
    "        print(num,\" is an odd\")\n",
    "        \n",
    "find_Evenodd(num)"
   ]
  },
  {
   "cell_type": "code",
   "execution_count": null,
   "id": "fb032f4c",
   "metadata": {},
   "outputs": [],
   "source": []
  }
 ],
 "metadata": {
  "kernelspec": {
   "display_name": "Python 3 (ipykernel)",
   "language": "python",
   "name": "python3"
  },
  "language_info": {
   "codemirror_mode": {
    "name": "ipython",
    "version": 3
   },
   "file_extension": ".py",
   "mimetype": "text/x-python",
   "name": "python",
   "nbconvert_exporter": "python",
   "pygments_lexer": "ipython3",
   "version": "3.9.7"
  }
 },
 "nbformat": 4,
 "nbformat_minor": 5
}
