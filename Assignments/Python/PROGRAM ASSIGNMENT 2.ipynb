{
 "cells": [
  {
   "cell_type": "code",
   "execution_count": 11,
   "id": "fca77807",
   "metadata": {},
   "outputs": [
    {
     "name": "stdout",
     "output_type": "stream",
     "text": [
      "Enter the Year: 2000\n",
      "Given Year is a leap Year\n"
     ]
    }
   ],
   "source": [
    "#Program to check whether a given is leap year or not\n",
    "Year = int(input(\"Enter the Year: \"))\n",
    "CheckLeap(Year)\n",
    "def CheckLeap(Year):\n",
    "  if((Year % 400 == 0) or  \n",
    "     (Year % 100 != 0) and  \n",
    "     (Year % 4 == 0)):   \n",
    "    print(\"Given Year is a leap Year\");  \n",
    "  else:  \n",
    "    print (\"Given Year is not a leap Year\")"
   ]
  },
  {
   "cell_type": "code",
   "execution_count": 12,
   "id": "916b90cc",
   "metadata": {},
   "outputs": [
    {
     "name": "stdout",
     "output_type": "stream",
     "text": [
      "Enter weekday day number (1-7) : 5\n",
      "\n",
      "Friday\n"
     ]
    }
   ],
   "source": [
    "#program to print the respective day according to number 1 to 7\n",
    "\n",
    "weekday = int(input(\"Enter weekday day number (1-7) : \"))\n",
    "\n",
    "if weekday == 1 :\n",
    "    print(\"\\nMonday\");\n",
    "\n",
    "elif weekday == 2 :\n",
    "    print(\"\\nTuesday\")\n",
    "\n",
    "elif(weekday == 3) :\n",
    "    print(\"\\nWednesday\")\n",
    "\n",
    "elif(weekday == 4) :\n",
    "    print(\"\\nThursday\")\n",
    "\n",
    "elif(weekday == 5) :\n",
    "    print(\"\\nFriday\")\n",
    "\n",
    "elif(weekday == 6) :\n",
    "    print(\"\\nSaturday\")\n",
    "\n",
    "elif (weekday == 7) :\n",
    "    print(\"\\nSunday\")\n",
    "\n",
    "else :\n",
    "    print(\"\\nPlease enter weekday number between 1-7.\")"
   ]
  },
  {
   "cell_type": "code",
   "execution_count": 15,
   "id": "f5decabf",
   "metadata": {},
   "outputs": [
    {
     "name": "stdout",
     "output_type": "stream",
     "text": [
      "Enter the Mark: 45\n",
      "FAIL!\n"
     ]
    }
   ],
   "source": [
    "#Program to print the grade of student according to given criteria >90 = A, >75 = b, >65 =C, >50 = D, else fail\n",
    "   \n",
    "mark=int(input(\"Enter the Mark: \"))\n",
    "\n",
    "if mark>=90:\n",
    "    print(\"Your Grade is A\")\n",
    "elif mark>=75:\n",
    "    print(\"Your Grade is B\")\n",
    "elif mark>=65:\n",
    "    print(\"Your Grade is C\")\n",
    "elif mark>=50:\n",
    "    print(\"Your Grade is D\")\n",
    "else:\n",
    "    print(\"FAIL!\")  \n"
   ]
  },
  {
   "cell_type": "code",
   "execution_count": 26,
   "id": "ee265c43",
   "metadata": {},
   "outputs": [
    {
     "name": "stdout",
     "output_type": "stream",
     "text": [
      "enter the first number100\n",
      "enter the second number25\n",
      "enter the third number520\n",
      "numbers in sorted order: 25 100 520\n"
     ]
    }
   ],
   "source": [
    "#program to print the three numbers in ascending order\n",
    "\n",
    "x=int(input (\"enter the first number\"))\n",
    "\n",
    "y=int(input (\"enter the second number\"))\n",
    "\n",
    "z=int(input(\"enter the third number\"))\n",
    "\n",
    "a1=min(x,y,z)\n",
    "a3=max(x,y,z)\n",
    "a2=(x+y+z)-a1-a3\n",
    "print(\"numbers in sorted order:\",a1,a2,a3)"
   ]
  },
  {
   "cell_type": "code",
   "execution_count": 1,
   "id": "18b634a2",
   "metadata": {},
   "outputs": [
    {
     "name": "stdout",
     "output_type": "stream",
     "text": [
      "Select operation.\n",
      "1.Add\n",
      "2.Subtract\n",
      "3.Multiply\n",
      "4.Divide\n",
      "Enter choice(1/2/3/4): 4\n",
      "Enter first number: 150\n",
      "Enter second number: 5\n",
      "150.0 / 5.0 = 30.0\n",
      "Let's do next calculation? (yes/no): no\n"
     ]
    }
   ],
   "source": [
    "#write a program to create the calculator\n",
    "\n",
    "def add(x, y):\n",
    "    return x + y\n",
    "\n",
    "def subtract(x, y):\n",
    "    return x - y\n",
    "\n",
    "def multiply(x, y):\n",
    "    return x * y\n",
    "\n",
    "def divide(x, y):\n",
    "    return x / y\n",
    "\n",
    "\n",
    "print(\"Select operation.\")\n",
    "print(\"1.Add\")\n",
    "print(\"2.Subtract\")\n",
    "print(\"3.Multiply\")\n",
    "print(\"4.Divide\")\n",
    "\n",
    "while True:    \n",
    "    choice = input(\"Enter choice(1/2/3/4): \")\n",
    "\n",
    "    \n",
    "    if choice in ('1', '2', '3', '4'):\n",
    "        num1 = float(input(\"Enter first number: \"))\n",
    "        num2 = float(input(\"Enter second number: \"))\n",
    "\n",
    "        if choice == '1':\n",
    "            print(num1, \"+\", num2, \"=\", add(num1, num2))\n",
    "\n",
    "        elif choice == '2':\n",
    "            print(num1, \"-\", num2, \"=\", subtract(num1, num2))\n",
    "\n",
    "        elif choice == '3':\n",
    "            print(num1, \"*\", num2, \"=\", multiply(num1, num2))\n",
    "\n",
    "        elif choice == '4':\n",
    "            print(num1, \"/\", num2, \"=\", divide(num1, num2))\n",
    "        \n",
    "        \n",
    "        next_calculation = input(\"Let's do next calculation? (yes/no): \")\n",
    "        if next_calculation == \"no\":\n",
    "          break\n",
    "    \n",
    "    else:\n",
    "        print(\"Invalid Input\")"
   ]
  },
  {
   "cell_type": "code",
   "execution_count": 13,
   "id": "6bf2d1cb",
   "metadata": {},
   "outputs": [
    {
     "name": "stdout",
     "output_type": "stream",
     "text": [
      "Enter the month number: 8\n",
      "August\n"
     ]
    }
   ],
   "source": [
    "#Write a program to print the respective month according to number 1 to 12\n",
    "\n",
    "def print_month_name(x):\n",
    "     if (x==1):\n",
    "         print (\"Jan\")\n",
    "     if (x==2):\n",
    "         print(\"Feb\")\n",
    "     if (x==3):\n",
    "         print(\"March\")\n",
    "     if (x==4):\n",
    "         print(\"April\")\n",
    "     if (x==5):\n",
    "         print(\"May\")\n",
    "     if (x==6):\n",
    "         print(\"June\")\n",
    "     if (x==7):\n",
    "         print(\"July\")\n",
    "     if (x==8):\n",
    "         print(\"August\")\n",
    "     if(x==9):\n",
    "         print(\"September\")\n",
    "     if(x==10):\n",
    "         print(\"October\")\n",
    "     if(x==11):\n",
    "         print(\"November\")\n",
    "     if(x==12):\n",
    "         print(\"December\")\n",
    "     if(x<1 or x>12):\n",
    "         print(\"Invalid input\")\n",
    "month = int(input(\"Enter the month number: \"))\n",
    "print_month_name(month)"
   ]
  },
  {
   "cell_type": "code",
   "execution_count": 14,
   "id": "e6b229bd",
   "metadata": {},
   "outputs": [
    {
     "name": "stdout",
     "output_type": "stream",
     "text": [
      "Enter first number: 12\n",
      "Enter second number: 76\n",
      "Enter third number: 95\n",
      "The largest number is 95.0\n"
     ]
    }
   ],
   "source": [
    "#Print the greatest number between three numbers\n",
    "num1 = float(input(\"Enter first number: \"))\n",
    "num2 = float(input(\"Enter second number: \"))\n",
    "num3 = float(input(\"Enter third number: \"))\n",
    " \n",
    "if (num1 > num2) and (num1 > num3):\n",
    "   largest = num1\n",
    "elif (num2 > num1) and (num2 > num3):\n",
    "   largest = num2\n",
    "else:\n",
    "   largest = num3\n",
    " \n",
    "print(\"The largest number is\",largest)"
   ]
  },
  {
   "cell_type": "code",
   "execution_count": 15,
   "id": "99a4dcb6",
   "metadata": {},
   "outputs": [
    {
     "name": "stdout",
     "output_type": "stream",
     "text": [
      "Enter first number  : 12\n",
      "Enter second number : 85\n",
      "Enter third number  : 41\n",
      "12 is the smallest of three numbers.\n"
     ]
    }
   ],
   "source": [
    "#Print the smallest number between three numbers\n",
    "a = int(input('Enter first number  : '))\n",
    "b = int(input('Enter second number : '))\n",
    "c = int(input('Enter third number  : '))\n",
    "\n",
    "smallest = 0\n",
    "\n",
    "if a < b and a < c :\n",
    "    smallest = a\n",
    "elif b < c :\n",
    "    smallest = b\n",
    "else :\n",
    "    smallest = c\n",
    "\n",
    "print(smallest, \"is the smallest of three numbers.\")"
   ]
  },
  {
   "cell_type": "code",
   "execution_count": null,
   "id": "eb4db336",
   "metadata": {},
   "outputs": [],
   "source": []
  }
 ],
 "metadata": {
  "kernelspec": {
   "display_name": "Python 3 (ipykernel)",
   "language": "python",
   "name": "python3"
  },
  "language_info": {
   "codemirror_mode": {
    "name": "ipython",
    "version": 3
   },
   "file_extension": ".py",
   "mimetype": "text/x-python",
   "name": "python",
   "nbconvert_exporter": "python",
   "pygments_lexer": "ipython3",
   "version": "3.9.7"
  }
 },
 "nbformat": 4,
 "nbformat_minor": 5
}
