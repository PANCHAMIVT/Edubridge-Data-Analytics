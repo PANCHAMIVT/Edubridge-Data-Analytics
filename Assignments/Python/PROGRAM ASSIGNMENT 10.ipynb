{
 "cells": [
  {
   "cell_type": "markdown",
   "id": "50f47c33",
   "metadata": {},
   "source": [
    "## 1) Write a function to find the max of three numbers."
   ]
  },
  {
   "cell_type": "code",
   "execution_count": 1,
   "id": "9723f2bf",
   "metadata": {},
   "outputs": [
    {
     "name": "stdout",
     "output_type": "stream",
     "text": [
      "Enter first number: 18\n",
      "Enter second number: 45\n",
      "Enter Third number: 15\n",
      "Largest number among  the three is 45\n"
     ]
    }
   ],
   "source": [
    "a=int(input(\"Enter first number: \"));\n",
    "\n",
    "b=int(input(\"Enter second number: \"));\n",
    "\n",
    "c=int(input(\"Enter Third number: \"));\n",
    "\n",
    "def f():\n",
    "\n",
    "    if(a>=b) and (b>=c):\n",
    "\n",
    "        l=a\n",
    "\n",
    "    elif(b>=a) and (b>=c):\n",
    "\n",
    "         l=b\n",
    "\n",
    "    else:\n",
    "\n",
    "         l=c\n",
    "\n",
    "    print(\"Largest number among  the three is\",l)\n",
    "\n",
    "f()"
   ]
  },
  {
   "cell_type": "markdown",
   "id": "4b3b0dca",
   "metadata": {},
   "source": [
    "## 2)Write a function to sum all the numbers in a list."
   ]
  },
  {
   "cell_type": "code",
   "execution_count": 2,
   "id": "edaf8671",
   "metadata": {},
   "outputs": [
    {
     "name": "stdout",
     "output_type": "stream",
     "text": [
      "22\n"
     ]
    }
   ],
   "source": [
    "def sum(numbers):\n",
    "\n",
    "   total = 0\n",
    "\n",
    "   for x in numbers:\n",
    "\n",
    "       total += x\n",
    "\n",
    "   return total\n",
    "\n",
    "print(sum((5, 2, 3, 4, 8)))"
   ]
  },
  {
   "cell_type": "markdown",
   "id": "90fcbdf6",
   "metadata": {},
   "source": [
    "## 3)Write a function to multiply all the numbers in a list."
   ]
  },
  {
   "cell_type": "code",
   "execution_count": 3,
   "id": "e3c0258c",
   "metadata": {},
   "outputs": [
    {
     "name": "stdout",
     "output_type": "stream",
     "text": [
      "-840\n"
     ]
    }
   ],
   "source": [
    "def multiply(numbers):  \n",
    "    \n",
    "    total = 1\n",
    "    \n",
    "    for x in numbers:\n",
    "        \n",
    "        total *= x  \n",
    "        \n",
    "    return total  \n",
    "\n",
    "print(multiply((8, 5, -3, 1, 7)))"
   ]
  },
  {
   "cell_type": "markdown",
   "id": "9699f907",
   "metadata": {},
   "source": [
    "## 4)Write a function to reverse a string."
   ]
  },
  {
   "cell_type": "code",
   "execution_count": 4,
   "id": "5d6a065a",
   "metadata": {},
   "outputs": [
    {
     "name": "stdout",
     "output_type": "stream",
     "text": [
      "imahcnap si eman ym\n"
     ]
    }
   ],
   "source": [
    "def reverse(x):\n",
    "    \n",
    "  return x[::-1]\n",
    "\n",
    "mytxt = reverse(\"my name is panchami\")\n",
    "\n",
    "print(mytxt)"
   ]
  },
  {
   "cell_type": "markdown",
   "id": "3d066a38",
   "metadata": {},
   "source": [
    "## 5) Write a function to calculate the factorial of a number."
   ]
  },
  {
   "cell_type": "code",
   "execution_count": 5,
   "id": "05dd35d0",
   "metadata": {},
   "outputs": [
    {
     "name": "stdout",
     "output_type": "stream",
     "text": [
      "Enter a number to compute the factiorial : 5\n",
      "120\n"
     ]
    }
   ],
   "source": [
    "def factorial(n):\n",
    "    if n == 0:\n",
    "        return 1\n",
    "    else:\n",
    "        return n * factorial(n-1)\n",
    "    \n",
    "n=int(input(\"Enter a number to compute the factiorial : \"))\n",
    "\n",
    "print(factorial(n))"
   ]
  },
  {
   "cell_type": "markdown",
   "id": "42f8f28d",
   "metadata": {},
   "source": [
    "## 6)Write a function that accepts a string and calculate the number of upper case letters and lower case letters."
   ]
  },
  {
   "cell_type": "code",
   "execution_count": 8,
   "id": "b191d0d0",
   "metadata": {},
   "outputs": [
    {
     "name": "stdout",
     "output_type": "stream",
     "text": [
      "Original String :  My Name Is PANCHAMI\n",
      "No. of Upper case characters :  11\n",
      "No. of Lower case Characters :  5\n"
     ]
    }
   ],
   "source": [
    "def string_test(s):\n",
    "    \n",
    "    d={\"UPPER_CASE\":0, \"LOWER_CASE\":0}\n",
    "    \n",
    "    for c in s:\n",
    "        if c.isupper():\n",
    "            \n",
    "           d[\"UPPER_CASE\"]+=1\n",
    "        \n",
    "        elif c.islower():\n",
    "            \n",
    "           d[\"LOWER_CASE\"]+=1\n",
    "        else:\n",
    "            \n",
    "           pass\n",
    "    \n",
    "    print (\"Original String : \", s)\n",
    "    \n",
    "    print (\"No. of Upper case characters : \", d[\"UPPER_CASE\"])\n",
    "    \n",
    "    print (\"No. of Lower case Characters : \", d[\"LOWER_CASE\"])\n",
    "\n",
    "string_test('My Name Is PANCHAMI')"
   ]
  },
  {
   "cell_type": "markdown",
   "id": "217ad984",
   "metadata": {},
   "source": [
    "## 7)Write a function that takes a list and returns a new list with unique elements of the first list. "
   ]
  },
  {
   "cell_type": "code",
   "execution_count": 9,
   "id": "aa376854",
   "metadata": {},
   "outputs": [
    {
     "name": "stdout",
     "output_type": "stream",
     "text": [
      "[1, 2, 3, 4, 5, 6, 7]\n"
     ]
    }
   ],
   "source": [
    "def f(list):\n",
    "\n",
    "    a=set(list)\n",
    "\n",
    "    print(sorted(a))\n",
    "\n",
    "f([1,1,1,2,2,2,3,4,5,5,6,7,7])"
   ]
  },
  {
   "cell_type": "code",
   "execution_count": null,
   "id": "d3ba451d",
   "metadata": {},
   "outputs": [],
   "source": []
  }
 ],
 "metadata": {
  "kernelspec": {
   "display_name": "Python 3 (ipykernel)",
   "language": "python",
   "name": "python3"
  },
  "language_info": {
   "codemirror_mode": {
    "name": "ipython",
    "version": 3
   },
   "file_extension": ".py",
   "mimetype": "text/x-python",
   "name": "python",
   "nbconvert_exporter": "python",
   "pygments_lexer": "ipython3",
   "version": "3.9.7"
  }
 },
 "nbformat": 4,
 "nbformat_minor": 5
}
