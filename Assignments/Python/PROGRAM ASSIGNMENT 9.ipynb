{
 "cells": [
  {
   "cell_type": "markdown",
   "id": "d9d761cd",
   "metadata": {},
   "source": [
    "## 1) Write a Python class named Circle consructed by a radius and two methods which willcompute the area and the perimeter of a circle?"
   ]
  },
  {
   "cell_type": "code",
   "execution_count": 2,
   "id": "b3afae4d",
   "metadata": {},
   "outputs": [
    {
     "name": "stdout",
     "output_type": "stream",
     "text": [
      "254.34\n",
      "56.52\n"
     ]
    }
   ],
   "source": [
    "class Circle():\n",
    "    def __init__(self, r):\n",
    "        self.radius = r\n",
    "\n",
    "    def area(self):\n",
    "        return self.radius**2*3.14\n",
    "    \n",
    "    def perimeter(self):\n",
    "        return 2*self.radius*3.14\n",
    "\n",
    "NewCircle = Circle(9)\n",
    "print(NewCircle.area())\n",
    "print(NewCircle.perimeter())"
   ]
  },
  {
   "cell_type": "markdown",
   "id": "c615ee94",
   "metadata": {},
   "source": [
    "## 2) Write a Python class named Rectangle constructed by a length and width and a method which will compute the area of a rectangle."
   ]
  },
  {
   "cell_type": "code",
   "execution_count": 3,
   "id": "35676051",
   "metadata": {},
   "outputs": [
    {
     "name": "stdout",
     "output_type": "stream",
     "text": [
      "288\n"
     ]
    }
   ],
   "source": [
    "class Rectangle():\n",
    "    def __init__(self, l, w):\n",
    "        self.length = l\n",
    "        self.width  = w\n",
    "\n",
    "    def rectangle_area(self):\n",
    "        return self.length*self.width\n",
    "\n",
    "newRectangle = Rectangle(16, 18)\n",
    "print(newRectangle.rectangle_area())"
   ]
  },
  {
   "cell_type": "markdown",
   "id": "b68e655e",
   "metadata": {},
   "source": [
    "## 3) Write a Python class which has two methods get_String and print_String. get_String accept a string from the user and print_String print the string in uppercase."
   ]
  },
  {
   "cell_type": "code",
   "execution_count": 6,
   "id": "d3413d68",
   "metadata": {},
   "outputs": [
    {
     "name": "stdout",
     "output_type": "stream",
     "text": [
      "panchami\n",
      "PANCHAMI\n"
     ]
    }
   ],
   "source": [
    "class IOString():\n",
    "    def __init__(self):\n",
    "        self.str1 = \"\"\n",
    "\n",
    "    def get_String(self):\n",
    "        self.str1 = input()\n",
    "\n",
    "    def print_String(self):\n",
    "        print(self.str1.upper())\n",
    "\n",
    "str1 = IOString()\n",
    "str1.get_String()\n",
    "str1.print_String()"
   ]
  },
  {
   "cell_type": "code",
   "execution_count": null,
   "id": "114fb05a",
   "metadata": {},
   "outputs": [],
   "source": []
  }
 ],
 "metadata": {
  "kernelspec": {
   "display_name": "Python 3 (ipykernel)",
   "language": "python",
   "name": "python3"
  },
  "language_info": {
   "codemirror_mode": {
    "name": "ipython",
    "version": 3
   },
   "file_extension": ".py",
   "mimetype": "text/x-python",
   "name": "python",
   "nbconvert_exporter": "python",
   "pygments_lexer": "ipython3",
   "version": "3.9.7"
  }
 },
 "nbformat": 4,
 "nbformat_minor": 5
}
