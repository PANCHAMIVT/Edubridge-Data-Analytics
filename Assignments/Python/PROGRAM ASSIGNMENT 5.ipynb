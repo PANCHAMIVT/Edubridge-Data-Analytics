{
 "cells": [
  {
   "cell_type": "markdown",
   "id": "82b0e94c",
   "metadata": {},
   "source": [
    "## first character in string"
   ]
  },
  {
   "cell_type": "code",
   "execution_count": 1,
   "id": "18fdb4ad",
   "metadata": {},
   "outputs": [
    {
     "name": "stdout",
     "output_type": "stream",
     "text": [
      "Enter any string: PROGRAM\n",
      "First character: P\n"
     ]
    }
   ],
   "source": [
    "string = input('Enter any string: ')\n",
    "\n",
    "\n",
    "first_char = \"\"\n",
    "for i in range(0, 1):\n",
    "    first_char = first_char + string[i]\n",
    "\n",
    "\n",
    "print('First character:', first_char)"
   ]
  },
  {
   "cell_type": "markdown",
   "id": "3cf2c7c2",
   "metadata": {},
   "source": [
    "## last character in string using len function"
   ]
  },
  {
   "cell_type": "code",
   "execution_count": 2,
   "id": "31b66190",
   "metadata": {},
   "outputs": [
    {
     "name": "stdout",
     "output_type": "stream",
     "text": [
      "Enter any string: PYTHON\n",
      "Last character: N\n"
     ]
    }
   ],
   "source": [
    "string = input('Enter any string: ')\n",
    "\n",
    "\n",
    "length = len(string)\n",
    "\n",
    "\n",
    "last_char = string[length-1]\n",
    "\n",
    "\n",
    "print('Last character:', last_char)"
   ]
  },
  {
   "cell_type": "markdown",
   "id": "d123e08c",
   "metadata": {},
   "source": [
    "## last character in string"
   ]
  },
  {
   "cell_type": "code",
   "execution_count": 3,
   "id": "27225f23",
   "metadata": {},
   "outputs": [
    {
     "name": "stdout",
     "output_type": "stream",
     "text": [
      "Enter any string: PYTHON\n",
      "Last character: N\n"
     ]
    }
   ],
   "source": [
    "string = input('Enter any string: ')\n",
    "\n",
    "\n",
    "last_char = string[-1]\n",
    "\n",
    "\n",
    "print('Last character:', last_char)"
   ]
  },
  {
   "cell_type": "markdown",
   "id": "99f43c34",
   "metadata": {},
   "source": [
    "## fetch the 7th element of the string"
   ]
  },
  {
   "cell_type": "code",
   "execution_count": 6,
   "id": "4b16ae9a",
   "metadata": {},
   "outputs": [
    {
     "name": "stdout",
     "output_type": "stream",
     "text": [
      "Enter any string: panchami\n",
      "i\n"
     ]
    }
   ],
   "source": [
    "string = input('Enter any string: ')\n",
    "print(string[7])"
   ]
  },
  {
   "cell_type": "markdown",
   "id": "e3e40fd5",
   "metadata": {},
   "source": [
    "## fetch all characters from 0 to 5 index location excluding the character at loc 5."
   ]
  },
  {
   "cell_type": "code",
   "execution_count": 24,
   "id": "ae8531be",
   "metadata": {},
   "outputs": [
    {
     "name": "stdout",
     "output_type": "stream",
     "text": [
      "Enter any string: panchami\n",
      "panch\n"
     ]
    }
   ],
   "source": [
    "string = input('Enter any string: ')\n",
    "s =  string[:5]\n",
    "print(s)"
   ]
  },
  {
   "cell_type": "markdown",
   "id": "bf3776d5",
   "metadata": {},
   "source": [
    "## retrieve all characters between 6 -12 index excluding loc 12"
   ]
  },
  {
   "cell_type": "code",
   "execution_count": 34,
   "id": "6cdb7507",
   "metadata": {},
   "outputs": [
    {
     "name": "stdout",
     "output_type": "stream",
     "text": [
      "Enter any string: 1234567890abcdef\n",
      "7890ab\n"
     ]
    }
   ],
   "source": [
    "string = input('Enter any string: ')\n",
    "s =  string[6:12]\n",
    "print(s)"
   ]
  },
  {
   "cell_type": "markdown",
   "id": "30e9ffab",
   "metadata": {},
   "source": [
    "## retrieve last four characters of the string"
   ]
  },
  {
   "cell_type": "code",
   "execution_count": 27,
   "id": "38ed64ad",
   "metadata": {},
   "outputs": [
    {
     "name": "stdout",
     "output_type": "stream",
     "text": [
      "Enter any string: abcdefg\n",
      "defg\n"
     ]
    }
   ],
   "source": [
    "string = input('Enter any string: ')\n",
    "s =  string[-4:]\n",
    "print(s)"
   ]
  },
  {
   "cell_type": "markdown",
   "id": "4401898d",
   "metadata": {},
   "source": [
    "## retrieve last six characters of the string"
   ]
  },
  {
   "cell_type": "code",
   "execution_count": 28,
   "id": "76b3f62d",
   "metadata": {},
   "outputs": [
    {
     "name": "stdout",
     "output_type": "stream",
     "text": [
      "Enter any string: retrieve string\n",
      "string\n"
     ]
    }
   ],
   "source": [
    "string = input('Enter any string: ')\n",
    "s =  string[-6:]\n",
    "print(s)"
   ]
  },
  {
   "cell_type": "markdown",
   "id": "3bd4220e",
   "metadata": {},
   "source": [
    "## retrieve first four characters of the string"
   ]
  },
  {
   "cell_type": "code",
   "execution_count": 29,
   "id": "8ce08901",
   "metadata": {},
   "outputs": [
    {
     "name": "stdout",
     "output_type": "stream",
     "text": [
      "Enter any string: retrieve\n",
      "retr\n"
     ]
    }
   ],
   "source": [
    "string = input('Enter any string: ')\n",
    "s =  string[:4]\n",
    "print(s)"
   ]
  },
  {
   "cell_type": "code",
   "execution_count": null,
   "id": "ffc315e9",
   "metadata": {},
   "outputs": [],
   "source": []
  }
 ],
 "metadata": {
  "kernelspec": {
   "display_name": "Python 3 (ipykernel)",
   "language": "python",
   "name": "python3"
  },
  "language_info": {
   "codemirror_mode": {
    "name": "ipython",
    "version": 3
   },
   "file_extension": ".py",
   "mimetype": "text/x-python",
   "name": "python",
   "nbconvert_exporter": "python",
   "pygments_lexer": "ipython3",
   "version": "3.9.7"
  }
 },
 "nbformat": 4,
 "nbformat_minor": 5
}
