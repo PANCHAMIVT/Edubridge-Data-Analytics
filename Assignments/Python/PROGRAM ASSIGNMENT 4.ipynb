{
 "cells": [
  {
   "cell_type": "markdown",
   "id": "908238f6",
   "metadata": {},
   "source": [
    "## Calculate square  of all numbers between 0-10 using list comprehensions"
   ]
  },
  {
   "cell_type": "code",
   "execution_count": 2,
   "id": "00bd4c9c",
   "metadata": {},
   "outputs": [
    {
     "name": "stdout",
     "output_type": "stream",
     "text": [
      "[0, 1, 4, 9, 16, 25, 36, 49, 64, 81, 100]\n"
     ]
    }
   ],
   "source": [
    "def squares(start, end):\n",
    "    squares = [value ** 2 for value in range(start,end+1)]\n",
    "    return squares\n",
    "\n",
    "print(squares(0, 10)) "
   ]
  },
  {
   "cell_type": "markdown",
   "id": "c026314b",
   "metadata": {},
   "source": [
    "## multiply whole list by 10"
   ]
  },
  {
   "cell_type": "code",
   "execution_count": 16,
   "id": "2b98c19e",
   "metadata": {},
   "outputs": [
    {
     "name": "stdout",
     "output_type": "stream",
     "text": [
      "[0, 10, 40, 90, 160, 250, 360, 490, 640, 810, 1000]\n"
     ]
    }
   ],
   "source": [
    "squares = [0, 1, 4, 9, 16, 25, 36, 49, 64, 81, 100]\n",
    "multiplied_list = [element * 10 for element in squares]\n",
    "\n",
    "print(multiplied_list)"
   ]
  },
  {
   "cell_type": "markdown",
   "id": "571c2d79",
   "metadata": {},
   "source": [
    "## extract numbers from a string using list comprehension"
   ]
  },
  {
   "cell_type": "code",
   "execution_count": 20,
   "id": "f746f265",
   "metadata": {},
   "outputs": [
    {
     "name": "stdout",
     "output_type": "stream",
     "text": [
      "The original list : ['Rs. 24', 'Rs. 18', 'Rs. 8', 'Rs. 21']\n",
      "The list after Extracting numbers : [24, 18, 8, 21]\n"
     ]
    }
   ],
   "source": [
    "list1 = ['Rs. 24', 'Rs. 18', 'Rs. 8', 'Rs. 21']\n",
    "  \n",
    "\n",
    "print(\"The original list : \" + str(list1))\n",
    "  \n",
    "\n",
    "res = [int(sub.split('.')[1]) for sub in list1]\n",
    "  \n",
    "\n",
    "print(\"The list after Extracting numbers : \" + str(res))"
   ]
  },
  {
   "cell_type": "markdown",
   "id": "fa6a5723",
   "metadata": {},
   "source": [
    "## Write the program to remove the duplicate element of the list."
   ]
  },
  {
   "cell_type": "code",
   "execution_count": 23,
   "id": "7bcf529f",
   "metadata": {},
   "outputs": [
    {
     "name": "stdout",
     "output_type": "stream",
     "text": [
      "[2, 4, 10, 20, 5]\n"
     ]
    }
   ],
   "source": [
    "def Remove(duplicate):\n",
    "    final_list = []\n",
    "    for num in duplicate:\n",
    "        if num not in final_list:\n",
    "            final_list.append(num)\n",
    "    return final_list\n",
    "     \n",
    "\n",
    "duplicate = [2, 4, 10, 20, 5, 2, 20, 4]\n",
    "print(Remove(duplicate))"
   ]
  },
  {
   "cell_type": "markdown",
   "id": "d4bdd068",
   "metadata": {},
   "source": [
    "## Write a program to find the sum of the element in the list."
   ]
  },
  {
   "cell_type": "code",
   "execution_count": 24,
   "id": "eacd0bda",
   "metadata": {},
   "outputs": [
    {
     "name": "stdout",
     "output_type": "stream",
     "text": [
      "Sum of all elements in given list:  74\n"
     ]
    }
   ],
   "source": [
    "total = 0\n",
    " \n",
    "\n",
    "list1 = [11, 5, 17, 18, 23]\n",
    " \n",
    "\n",
    "for ele in range(0, len(list1)):\n",
    "    total = total + list1[ele]\n",
    " \n",
    "\n",
    "print(\"Sum of all elements in given list: \", total)"
   ]
  },
  {
   "cell_type": "markdown",
   "id": "d5637adf",
   "metadata": {},
   "source": [
    "## Write the program to find the lists consist of at least one common element."
   ]
  },
  {
   "cell_type": "code",
   "execution_count": 25,
   "id": "e0bdcb0c",
   "metadata": {},
   "outputs": [
    {
     "name": "stdout",
     "output_type": "stream",
     "text": [
      "True\n",
      "False\n"
     ]
    }
   ],
   "source": [
    "def common_data(list1, list2):\n",
    "    result = False\n",
    "  \n",
    "    \n",
    "    for x in list1:\n",
    "  \n",
    "   \n",
    "        for y in list2:\n",
    "    \n",
    "           \n",
    "            if x == y:\n",
    "                result = True\n",
    "                return result \n",
    "                  \n",
    "    return result\n",
    "      \n",
    "\n",
    "a = [1, 2, 3, 4, 5]\n",
    "b = [5, 6, 7, 8, 9]\n",
    "print(common_data(a, b))\n",
    "  \n",
    "a = [1, 2, 3, 4, 5]\n",
    "b = [6, 7, 8, 9]\n",
    "print(common_data(a, b))"
   ]
  },
  {
   "cell_type": "code",
   "execution_count": null,
   "id": "1c2db081",
   "metadata": {},
   "outputs": [],
   "source": []
  }
 ],
 "metadata": {
  "kernelspec": {
   "display_name": "Python 3 (ipykernel)",
   "language": "python",
   "name": "python3"
  },
  "language_info": {
   "codemirror_mode": {
    "name": "ipython",
    "version": 3
   },
   "file_extension": ".py",
   "mimetype": "text/x-python",
   "name": "python",
   "nbconvert_exporter": "python",
   "pygments_lexer": "ipython3",
   "version": "3.9.7"
  }
 },
 "nbformat": 4,
 "nbformat_minor": 5
}
